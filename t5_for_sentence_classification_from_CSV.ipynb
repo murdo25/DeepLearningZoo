{
  "nbformat": 4,
  "nbformat_minor": 0,
  "metadata": {
    "colab": {
      "name": "scale_takehome.ipynb",
      "provenance": [],
      "collapsed_sections": [],
      "machine_shape": "hm",
      "authorship_tag": "ABX9TyNM6IoOyorFmH8qiIBaQkdQ",
      "include_colab_link": true
    },
    "kernelspec": {
      "name": "python3",
      "display_name": "Python 3"
    },
    "accelerator": "GPU",
    "widgets": {
      "application/vnd.jupyter.widget-state+json": {
        "aaaf60f5d3464bbe89cc5f9654788fef": {
          "model_module": "@jupyter-widgets/controls",
          "model_name": "HBoxModel",
          "state": {
            "_view_name": "HBoxView",
            "_dom_classes": [],
            "_model_name": "HBoxModel",
            "_view_module": "@jupyter-widgets/controls",
            "_model_module_version": "1.5.0",
            "_view_count": null,
            "_view_module_version": "1.5.0",
            "box_style": "",
            "layout": "IPY_MODEL_02b07f25fd46427baf866b031f3ad4f2",
            "_model_module": "@jupyter-widgets/controls",
            "children": [
              "IPY_MODEL_ef89cf60ca0342fcaeebfeb0ea6132e8",
              "IPY_MODEL_55ad01c783ae4b359a08e95b5c03e60d"
            ]
          }
        },
        "02b07f25fd46427baf866b031f3ad4f2": {
          "model_module": "@jupyter-widgets/base",
          "model_name": "LayoutModel",
          "state": {
            "_view_name": "LayoutView",
            "grid_template_rows": null,
            "right": null,
            "justify_content": null,
            "_view_module": "@jupyter-widgets/base",
            "overflow": null,
            "_model_module_version": "1.2.0",
            "_view_count": null,
            "flex_flow": null,
            "width": null,
            "min_width": null,
            "border": null,
            "align_items": null,
            "bottom": null,
            "_model_module": "@jupyter-widgets/base",
            "top": null,
            "grid_column": null,
            "overflow_y": null,
            "overflow_x": null,
            "grid_auto_flow": null,
            "grid_area": null,
            "grid_template_columns": null,
            "flex": null,
            "_model_name": "LayoutModel",
            "justify_items": null,
            "grid_row": null,
            "max_height": null,
            "align_content": null,
            "visibility": null,
            "align_self": null,
            "height": null,
            "min_height": null,
            "padding": null,
            "grid_auto_rows": null,
            "grid_gap": null,
            "max_width": null,
            "order": null,
            "_view_module_version": "1.2.0",
            "grid_template_areas": null,
            "object_position": null,
            "object_fit": null,
            "grid_auto_columns": null,
            "margin": null,
            "display": null,
            "left": null
          }
        },
        "ef89cf60ca0342fcaeebfeb0ea6132e8": {
          "model_module": "@jupyter-widgets/controls",
          "model_name": "FloatProgressModel",
          "state": {
            "_view_name": "ProgressView",
            "style": "IPY_MODEL_7a75f953d4a04fcdb09279ab8f16a384",
            "_dom_classes": [],
            "description": "100%",
            "_model_name": "FloatProgressModel",
            "bar_style": "success",
            "max": 7,
            "_view_module": "@jupyter-widgets/controls",
            "_model_module_version": "1.5.0",
            "value": 7,
            "_view_count": null,
            "_view_module_version": "1.5.0",
            "orientation": "horizontal",
            "min": 0,
            "description_tooltip": null,
            "_model_module": "@jupyter-widgets/controls",
            "layout": "IPY_MODEL_ca9e3a33167a4d5591e21ffdc0a9b828"
          }
        },
        "55ad01c783ae4b359a08e95b5c03e60d": {
          "model_module": "@jupyter-widgets/controls",
          "model_name": "HTMLModel",
          "state": {
            "_view_name": "HTMLView",
            "style": "IPY_MODEL_44064d3eef2f4207ba5689da5526d3d4",
            "_dom_classes": [],
            "description": "",
            "_model_name": "HTMLModel",
            "placeholder": "​",
            "_view_module": "@jupyter-widgets/controls",
            "_model_module_version": "1.5.0",
            "value": " 7/7 [00:08&lt;00:00,  1.19s/it]",
            "_view_count": null,
            "_view_module_version": "1.5.0",
            "description_tooltip": null,
            "_model_module": "@jupyter-widgets/controls",
            "layout": "IPY_MODEL_12b2743fb7c24b71a4c0c8bb8858c1e6"
          }
        },
        "7a75f953d4a04fcdb09279ab8f16a384": {
          "model_module": "@jupyter-widgets/controls",
          "model_name": "ProgressStyleModel",
          "state": {
            "_view_name": "StyleView",
            "_model_name": "ProgressStyleModel",
            "description_width": "initial",
            "_view_module": "@jupyter-widgets/base",
            "_model_module_version": "1.5.0",
            "_view_count": null,
            "_view_module_version": "1.2.0",
            "bar_color": null,
            "_model_module": "@jupyter-widgets/controls"
          }
        },
        "ca9e3a33167a4d5591e21ffdc0a9b828": {
          "model_module": "@jupyter-widgets/base",
          "model_name": "LayoutModel",
          "state": {
            "_view_name": "LayoutView",
            "grid_template_rows": null,
            "right": null,
            "justify_content": null,
            "_view_module": "@jupyter-widgets/base",
            "overflow": null,
            "_model_module_version": "1.2.0",
            "_view_count": null,
            "flex_flow": null,
            "width": null,
            "min_width": null,
            "border": null,
            "align_items": null,
            "bottom": null,
            "_model_module": "@jupyter-widgets/base",
            "top": null,
            "grid_column": null,
            "overflow_y": null,
            "overflow_x": null,
            "grid_auto_flow": null,
            "grid_area": null,
            "grid_template_columns": null,
            "flex": null,
            "_model_name": "LayoutModel",
            "justify_items": null,
            "grid_row": null,
            "max_height": null,
            "align_content": null,
            "visibility": null,
            "align_self": null,
            "height": null,
            "min_height": null,
            "padding": null,
            "grid_auto_rows": null,
            "grid_gap": null,
            "max_width": null,
            "order": null,
            "_view_module_version": "1.2.0",
            "grid_template_areas": null,
            "object_position": null,
            "object_fit": null,
            "grid_auto_columns": null,
            "margin": null,
            "display": null,
            "left": null
          }
        },
        "44064d3eef2f4207ba5689da5526d3d4": {
          "model_module": "@jupyter-widgets/controls",
          "model_name": "DescriptionStyleModel",
          "state": {
            "_view_name": "StyleView",
            "_model_name": "DescriptionStyleModel",
            "description_width": "",
            "_view_module": "@jupyter-widgets/base",
            "_model_module_version": "1.5.0",
            "_view_count": null,
            "_view_module_version": "1.2.0",
            "_model_module": "@jupyter-widgets/controls"
          }
        },
        "12b2743fb7c24b71a4c0c8bb8858c1e6": {
          "model_module": "@jupyter-widgets/base",
          "model_name": "LayoutModel",
          "state": {
            "_view_name": "LayoutView",
            "grid_template_rows": null,
            "right": null,
            "justify_content": null,
            "_view_module": "@jupyter-widgets/base",
            "overflow": null,
            "_model_module_version": "1.2.0",
            "_view_count": null,
            "flex_flow": null,
            "width": null,
            "min_width": null,
            "border": null,
            "align_items": null,
            "bottom": null,
            "_model_module": "@jupyter-widgets/base",
            "top": null,
            "grid_column": null,
            "overflow_y": null,
            "overflow_x": null,
            "grid_auto_flow": null,
            "grid_area": null,
            "grid_template_columns": null,
            "flex": null,
            "_model_name": "LayoutModel",
            "justify_items": null,
            "grid_row": null,
            "max_height": null,
            "align_content": null,
            "visibility": null,
            "align_self": null,
            "height": null,
            "min_height": null,
            "padding": null,
            "grid_auto_rows": null,
            "grid_gap": null,
            "max_width": null,
            "order": null,
            "_view_module_version": "1.2.0",
            "grid_template_areas": null,
            "object_position": null,
            "object_fit": null,
            "grid_auto_columns": null,
            "margin": null,
            "display": null,
            "left": null
          }
        },
        "6e4d85bf0f1d4ee79e982b1095861912": {
          "model_module": "@jupyter-widgets/controls",
          "model_name": "HBoxModel",
          "state": {
            "_view_name": "HBoxView",
            "_dom_classes": [],
            "_model_name": "HBoxModel",
            "_view_module": "@jupyter-widgets/controls",
            "_model_module_version": "1.5.0",
            "_view_count": null,
            "_view_module_version": "1.5.0",
            "box_style": "",
            "layout": "IPY_MODEL_3c7b38c068364afc8e8bfc096f2df4ab",
            "_model_module": "@jupyter-widgets/controls",
            "children": [
              "IPY_MODEL_9556efad52b6440a8bd15e5e99119041",
              "IPY_MODEL_810aee0f038b4fdba558edbf09e89a5f"
            ]
          }
        },
        "3c7b38c068364afc8e8bfc096f2df4ab": {
          "model_module": "@jupyter-widgets/base",
          "model_name": "LayoutModel",
          "state": {
            "_view_name": "LayoutView",
            "grid_template_rows": null,
            "right": null,
            "justify_content": null,
            "_view_module": "@jupyter-widgets/base",
            "overflow": null,
            "_model_module_version": "1.2.0",
            "_view_count": null,
            "flex_flow": null,
            "width": null,
            "min_width": null,
            "border": null,
            "align_items": null,
            "bottom": null,
            "_model_module": "@jupyter-widgets/base",
            "top": null,
            "grid_column": null,
            "overflow_y": null,
            "overflow_x": null,
            "grid_auto_flow": null,
            "grid_area": null,
            "grid_template_columns": null,
            "flex": null,
            "_model_name": "LayoutModel",
            "justify_items": null,
            "grid_row": null,
            "max_height": null,
            "align_content": null,
            "visibility": null,
            "align_self": null,
            "height": null,
            "min_height": null,
            "padding": null,
            "grid_auto_rows": null,
            "grid_gap": null,
            "max_width": null,
            "order": null,
            "_view_module_version": "1.2.0",
            "grid_template_areas": null,
            "object_position": null,
            "object_fit": null,
            "grid_auto_columns": null,
            "margin": null,
            "display": null,
            "left": null
          }
        },
        "9556efad52b6440a8bd15e5e99119041": {
          "model_module": "@jupyter-widgets/controls",
          "model_name": "FloatProgressModel",
          "state": {
            "_view_name": "ProgressView",
            "style": "IPY_MODEL_f2baad562f574430a0f92e01bef46340",
            "_dom_classes": [],
            "description": "100%",
            "_model_name": "FloatProgressModel",
            "bar_style": "success",
            "max": 2,
            "_view_module": "@jupyter-widgets/controls",
            "_model_module_version": "1.5.0",
            "value": 2,
            "_view_count": null,
            "_view_module_version": "1.5.0",
            "orientation": "horizontal",
            "min": 0,
            "description_tooltip": null,
            "_model_module": "@jupyter-widgets/controls",
            "layout": "IPY_MODEL_95ceeca2324c444fa0c3ac71251bc494"
          }
        },
        "810aee0f038b4fdba558edbf09e89a5f": {
          "model_module": "@jupyter-widgets/controls",
          "model_name": "HTMLModel",
          "state": {
            "_view_name": "HTMLView",
            "style": "IPY_MODEL_455c62b2cc2f41be9c6b81e953402dbc",
            "_dom_classes": [],
            "description": "",
            "_model_name": "HTMLModel",
            "placeholder": "​",
            "_view_module": "@jupyter-widgets/controls",
            "_model_module_version": "1.5.0",
            "value": " 2/2 [00:01&lt;00:00,  1.27it/s]",
            "_view_count": null,
            "_view_module_version": "1.5.0",
            "description_tooltip": null,
            "_model_module": "@jupyter-widgets/controls",
            "layout": "IPY_MODEL_9314309246c84e4081c620cac48f868c"
          }
        },
        "f2baad562f574430a0f92e01bef46340": {
          "model_module": "@jupyter-widgets/controls",
          "model_name": "ProgressStyleModel",
          "state": {
            "_view_name": "StyleView",
            "_model_name": "ProgressStyleModel",
            "description_width": "initial",
            "_view_module": "@jupyter-widgets/base",
            "_model_module_version": "1.5.0",
            "_view_count": null,
            "_view_module_version": "1.2.0",
            "bar_color": null,
            "_model_module": "@jupyter-widgets/controls"
          }
        },
        "95ceeca2324c444fa0c3ac71251bc494": {
          "model_module": "@jupyter-widgets/base",
          "model_name": "LayoutModel",
          "state": {
            "_view_name": "LayoutView",
            "grid_template_rows": null,
            "right": null,
            "justify_content": null,
            "_view_module": "@jupyter-widgets/base",
            "overflow": null,
            "_model_module_version": "1.2.0",
            "_view_count": null,
            "flex_flow": null,
            "width": null,
            "min_width": null,
            "border": null,
            "align_items": null,
            "bottom": null,
            "_model_module": "@jupyter-widgets/base",
            "top": null,
            "grid_column": null,
            "overflow_y": null,
            "overflow_x": null,
            "grid_auto_flow": null,
            "grid_area": null,
            "grid_template_columns": null,
            "flex": null,
            "_model_name": "LayoutModel",
            "justify_items": null,
            "grid_row": null,
            "max_height": null,
            "align_content": null,
            "visibility": null,
            "align_self": null,
            "height": null,
            "min_height": null,
            "padding": null,
            "grid_auto_rows": null,
            "grid_gap": null,
            "max_width": null,
            "order": null,
            "_view_module_version": "1.2.0",
            "grid_template_areas": null,
            "object_position": null,
            "object_fit": null,
            "grid_auto_columns": null,
            "margin": null,
            "display": null,
            "left": null
          }
        },
        "455c62b2cc2f41be9c6b81e953402dbc": {
          "model_module": "@jupyter-widgets/controls",
          "model_name": "DescriptionStyleModel",
          "state": {
            "_view_name": "StyleView",
            "_model_name": "DescriptionStyleModel",
            "description_width": "",
            "_view_module": "@jupyter-widgets/base",
            "_model_module_version": "1.5.0",
            "_view_count": null,
            "_view_module_version": "1.2.0",
            "_model_module": "@jupyter-widgets/controls"
          }
        },
        "9314309246c84e4081c620cac48f868c": {
          "model_module": "@jupyter-widgets/base",
          "model_name": "LayoutModel",
          "state": {
            "_view_name": "LayoutView",
            "grid_template_rows": null,
            "right": null,
            "justify_content": null,
            "_view_module": "@jupyter-widgets/base",
            "overflow": null,
            "_model_module_version": "1.2.0",
            "_view_count": null,
            "flex_flow": null,
            "width": null,
            "min_width": null,
            "border": null,
            "align_items": null,
            "bottom": null,
            "_model_module": "@jupyter-widgets/base",
            "top": null,
            "grid_column": null,
            "overflow_y": null,
            "overflow_x": null,
            "grid_auto_flow": null,
            "grid_area": null,
            "grid_template_columns": null,
            "flex": null,
            "_model_name": "LayoutModel",
            "justify_items": null,
            "grid_row": null,
            "max_height": null,
            "align_content": null,
            "visibility": null,
            "align_self": null,
            "height": null,
            "min_height": null,
            "padding": null,
            "grid_auto_rows": null,
            "grid_gap": null,
            "max_width": null,
            "order": null,
            "_view_module_version": "1.2.0",
            "grid_template_areas": null,
            "object_position": null,
            "object_fit": null,
            "grid_auto_columns": null,
            "margin": null,
            "display": null,
            "left": null
          }
        }
      }
    }
  },
  "cells": [
    {
      "cell_type": "markdown",
      "metadata": {
        "id": "view-in-github",
        "colab_type": "text"
      },
      "source": [
        "<a href=\"https://colab.research.google.com/github/murdo25/DeepLearningZoo/blob/master/t5_for_sentence_classification_from_CSV.ipynb\" target=\"_parent\"><img src=\"https://colab.research.google.com/assets/colab-badge.svg\" alt=\"Open In Colab\"/></a>"
      ]
    },
    {
      "cell_type": "code",
      "metadata": {
        "colab": {
          "base_uri": "https://localhost:8080/"
        },
        "id": "JGT_DBjMi2aL",
        "outputId": "9324eedd-8320-42bf-972e-e9ffab4d9212"
      },
      "source": [
        "!pip install nlp\r\n",
        "!pip install tqd\r\n",
        "!pip install transformers\r\n",
        "!pip install sentencepiece\r\n"
      ],
      "execution_count": 1,
      "outputs": [
        {
          "output_type": "stream",
          "text": [
            "Requirement already satisfied: nlp in /usr/local/lib/python3.6/dist-packages (0.4.0)\n",
            "Requirement already satisfied: tqdm>=4.27 in /usr/local/lib/python3.6/dist-packages (from nlp) (4.41.1)\n",
            "Requirement already satisfied: filelock in /usr/local/lib/python3.6/dist-packages (from nlp) (3.0.12)\n",
            "Requirement already satisfied: xxhash in /usr/local/lib/python3.6/dist-packages (from nlp) (2.0.0)\n",
            "Requirement already satisfied: dill in /usr/local/lib/python3.6/dist-packages (from nlp) (0.3.3)\n",
            "Requirement already satisfied: numpy in /usr/local/lib/python3.6/dist-packages (from nlp) (1.19.5)\n",
            "Requirement already satisfied: dataclasses; python_version < \"3.7\" in /usr/local/lib/python3.6/dist-packages (from nlp) (0.8)\n",
            "Requirement already satisfied: pandas in /usr/local/lib/python3.6/dist-packages (from nlp) (1.1.5)\n",
            "Requirement already satisfied: pyarrow>=0.16.0 in /usr/local/lib/python3.6/dist-packages (from nlp) (2.0.0)\n",
            "Requirement already satisfied: requests>=2.19.0 in /usr/local/lib/python3.6/dist-packages (from nlp) (2.23.0)\n",
            "Requirement already satisfied: python-dateutil>=2.7.3 in /usr/local/lib/python3.6/dist-packages (from pandas->nlp) (2.8.1)\n",
            "Requirement already satisfied: pytz>=2017.2 in /usr/local/lib/python3.6/dist-packages (from pandas->nlp) (2018.9)\n",
            "Requirement already satisfied: idna<3,>=2.5 in /usr/local/lib/python3.6/dist-packages (from requests>=2.19.0->nlp) (2.10)\n",
            "Requirement already satisfied: certifi>=2017.4.17 in /usr/local/lib/python3.6/dist-packages (from requests>=2.19.0->nlp) (2020.12.5)\n",
            "Requirement already satisfied: urllib3!=1.25.0,!=1.25.1,<1.26,>=1.21.1 in /usr/local/lib/python3.6/dist-packages (from requests>=2.19.0->nlp) (1.24.3)\n",
            "Requirement already satisfied: chardet<4,>=3.0.2 in /usr/local/lib/python3.6/dist-packages (from requests>=2.19.0->nlp) (3.0.4)\n",
            "Requirement already satisfied: six>=1.5 in /usr/local/lib/python3.6/dist-packages (from python-dateutil>=2.7.3->pandas->nlp) (1.15.0)\n",
            "\u001b[31mERROR: Could not find a version that satisfies the requirement tqd (from versions: none)\u001b[0m\n",
            "\u001b[31mERROR: No matching distribution found for tqd\u001b[0m\n",
            "Requirement already satisfied: transformers in /usr/local/lib/python3.6/dist-packages (4.2.1)\n",
            "Requirement already satisfied: numpy in /usr/local/lib/python3.6/dist-packages (from transformers) (1.19.5)\n",
            "Requirement already satisfied: importlib-metadata; python_version < \"3.8\" in /usr/local/lib/python3.6/dist-packages (from transformers) (3.3.0)\n",
            "Requirement already satisfied: dataclasses; python_version < \"3.7\" in /usr/local/lib/python3.6/dist-packages (from transformers) (0.8)\n",
            "Requirement already satisfied: filelock in /usr/local/lib/python3.6/dist-packages (from transformers) (3.0.12)\n",
            "Requirement already satisfied: requests in /usr/local/lib/python3.6/dist-packages (from transformers) (2.23.0)\n",
            "Requirement already satisfied: tokenizers==0.9.4 in /usr/local/lib/python3.6/dist-packages (from transformers) (0.9.4)\n",
            "Requirement already satisfied: regex!=2019.12.17 in /usr/local/lib/python3.6/dist-packages (from transformers) (2019.12.20)\n",
            "Requirement already satisfied: sacremoses in /usr/local/lib/python3.6/dist-packages (from transformers) (0.0.43)\n",
            "Requirement already satisfied: tqdm>=4.27 in /usr/local/lib/python3.6/dist-packages (from transformers) (4.41.1)\n",
            "Requirement already satisfied: packaging in /usr/local/lib/python3.6/dist-packages (from transformers) (20.8)\n",
            "Requirement already satisfied: zipp>=0.5 in /usr/local/lib/python3.6/dist-packages (from importlib-metadata; python_version < \"3.8\"->transformers) (3.4.0)\n",
            "Requirement already satisfied: typing-extensions>=3.6.4; python_version < \"3.8\" in /usr/local/lib/python3.6/dist-packages (from importlib-metadata; python_version < \"3.8\"->transformers) (3.7.4.3)\n",
            "Requirement already satisfied: urllib3!=1.25.0,!=1.25.1,<1.26,>=1.21.1 in /usr/local/lib/python3.6/dist-packages (from requests->transformers) (1.24.3)\n",
            "Requirement already satisfied: idna<3,>=2.5 in /usr/local/lib/python3.6/dist-packages (from requests->transformers) (2.10)\n",
            "Requirement already satisfied: chardet<4,>=3.0.2 in /usr/local/lib/python3.6/dist-packages (from requests->transformers) (3.0.4)\n",
            "Requirement already satisfied: certifi>=2017.4.17 in /usr/local/lib/python3.6/dist-packages (from requests->transformers) (2020.12.5)\n",
            "Requirement already satisfied: joblib in /usr/local/lib/python3.6/dist-packages (from sacremoses->transformers) (1.0.0)\n",
            "Requirement already satisfied: click in /usr/local/lib/python3.6/dist-packages (from sacremoses->transformers) (7.1.2)\n",
            "Requirement already satisfied: six in /usr/local/lib/python3.6/dist-packages (from sacremoses->transformers) (1.15.0)\n",
            "Requirement already satisfied: pyparsing>=2.0.2 in /usr/local/lib/python3.6/dist-packages (from packaging->transformers) (2.4.7)\n",
            "Requirement already satisfied: sentencepiece in /usr/local/lib/python3.6/dist-packages (0.1.95)\n"
          ],
          "name": "stdout"
        }
      ]
    },
    {
      "cell_type": "code",
      "metadata": {
        "id": "o1ERwJ2HiC28"
      },
      "source": [
        "from nlp import Dataset\r\n",
        "import csv\r\n",
        "\r\n",
        "\r\n",
        "def read(data_path):\r\n",
        "    open_file = open(data_path, 'r').readlines()\r\n",
        "\r\n",
        "    lines = []\r\n",
        "    # Strips the newline character \r\n",
        "    for line in open_file: \r\n",
        "        line = line.strip()\r\n",
        "        lines.append(line)\r\n",
        "    return lines\r\n",
        "\r\n",
        "\r\n",
        "def clean_csv(data_path):\r\n",
        "    with open(data_path, newline='') as csvfile:\r\n",
        "        reader = csv.reader(csvfile, delimiter=',', quotechar='|')\r\n",
        "        inputs = []\r\n",
        "        targets = []\r\n",
        "\r\n",
        "        for row in reader:\r\n",
        "            inputs.append('Is this sentence about finance? ' + row[0])\r\n",
        "            if(row[1] == '0.0'):\r\n",
        "                targets.append(\" Answer: NO\")\r\n",
        "            else:\r\n",
        "                targets.append(\" Answer: YES\")\r\n",
        "    return inputs, targets \r\n",
        "\r\n",
        "def build_dataset(data_file):\r\n",
        "    inputs, targets  = clean_csv(data_file)\r\n",
        "\r\n",
        "    datapoints = {}\r\n",
        "    datapoints['input_text']= inputs\r\n",
        "    datapoints['target_text']= targets\r\n",
        "\r\n",
        "    assert len(datapoints['target_text']) == len(datapoints['input_text']), \"incorrect data distribution\"\r\n",
        "    return Dataset.from_dict(datapoints)\r\n"
      ],
      "execution_count": 39,
      "outputs": []
    },
    {
      "cell_type": "code",
      "metadata": {
        "id": "L_30qDIdtHGD"
      },
      "source": [
        "import tqdm\r\n",
        "import torch\r\n",
        "import nlp\r\n",
        "from transformers import T5Tokenizer\r\n",
        "import json\r\n",
        "import dataclasses\r\n",
        "import logging\r\n",
        "import os\r\n",
        "import sys\r\n",
        "from dataclasses import dataclass, field\r\n",
        "from typing import Dict, List, Optional\r\n",
        "import numpy as np\r\n",
        "\r\n",
        "tokenizer = T5Tokenizer.from_pretrained('t5-small')\r\n"
      ],
      "execution_count": 3,
      "outputs": []
    },
    {
      "cell_type": "code",
      "metadata": {
        "colab": {
          "base_uri": "https://localhost:8080/",
          "height": 220,
          "referenced_widgets": [
            "aaaf60f5d3464bbe89cc5f9654788fef",
            "02b07f25fd46427baf866b031f3ad4f2",
            "ef89cf60ca0342fcaeebfeb0ea6132e8",
            "55ad01c783ae4b359a08e95b5c03e60d",
            "7a75f953d4a04fcdb09279ab8f16a384",
            "ca9e3a33167a4d5591e21ffdc0a9b828",
            "44064d3eef2f4207ba5689da5526d3d4",
            "12b2743fb7c24b71a4c0c8bb8858c1e6",
            "6e4d85bf0f1d4ee79e982b1095861912",
            "3c7b38c068364afc8e8bfc096f2df4ab",
            "9556efad52b6440a8bd15e5e99119041",
            "810aee0f038b4fdba558edbf09e89a5f",
            "f2baad562f574430a0f92e01bef46340",
            "95ceeca2324c444fa0c3ac71251bc494",
            "455c62b2cc2f41be9c6b81e953402dbc",
            "9314309246c84e4081c620cac48f868c"
          ]
        },
        "id": "FVCEweb4qQmN",
        "outputId": "db30b86b-c97d-43f6-f444-a83e9494da70"
      },
      "source": [
        "# tokenize the examples\r\n",
        "def convert_to_features(example_batch):\r\n",
        "    # print(\"batch\", example_batch)\r\n",
        "    input_encodings  = tokenizer.batch_encode_plus(example_batch['input_text'], pad_to_max_length=True, max_length=128)\r\n",
        "    target_encodings = tokenizer.batch_encode_plus(example_batch['target_text'], pad_to_max_length=True, max_length=12)\r\n",
        "\r\n",
        "    encodings = {\r\n",
        "        'input_ids': input_encodings['input_ids'], \r\n",
        "        'attention_mask': input_encodings['attention_mask'],\r\n",
        "        'target_ids': target_encodings['input_ids'],\r\n",
        "        'target_attention_mask': target_encodings['attention_mask']\r\n",
        "    }\r\n",
        "    # print('encodings', encodings)\r\n",
        "    return encodings\r\n",
        "\r\n",
        "\r\n",
        "train_dataset = build_dataset('train.csv')\r\n",
        "valid_dataset = build_dataset('test.csv')\r\n",
        "\r\n",
        "print(\"train\",train_dataset)\r\n",
        "print(\"valid\",valid_dataset)\r\n",
        "\r\n",
        "\r\n",
        "# map convert_to_features batch wise\r\n",
        "train_dataset = train_dataset.map(convert_to_features, batched=True)\r\n",
        "valid_dataset = valid_dataset.map(convert_to_features, batched=True)\r\n",
        "\r\n",
        "# print(\"train dataset\", train_dataset)\r\n",
        "# set the tensor type and the columns which the dataset should return\r\n",
        "columns = ['input_ids', 'target_ids', 'attention_mask', 'target_attention_mask']\r\n",
        "train_dataset.set_format(type='torch', columns=columns)\r\n",
        "valid_dataset.set_format(type='torch', columns=columns)\r\n",
        "\r\n",
        "# cach the dataset, so we can load it directly for training\r\n",
        "\r\n",
        "torch.save(train_dataset, 'train_data.pt')\r\n",
        "torch.save(valid_dataset, 'valid_data.pt')\r\n",
        "\r\n",
        "\r\n",
        "from transformers import T5ForConditionalGeneration, T5Tokenizer, EvalPrediction\r\n",
        "from transformers import (\r\n",
        "    HfArgumentParser,\r\n",
        "    DataCollator,\r\n",
        "    Trainer,\r\n",
        "    TrainingArguments,\r\n",
        "    set_seed,\r\n",
        ")\r\n",
        "\r\n",
        "\r\n",
        "logger = logging.getLogger(__name__)\r\n",
        "\r\n",
        "from data_classes import T2TDataCollator, ModelArguments, DataTrainingArguments\r\n"
      ],
      "execution_count": 40,
      "outputs": [
        {
          "output_type": "stream",
          "text": [
            "Truncation was not explicitly activated but `max_length` is provided a specific value, please use `truncation=True` to explicitly truncate examples to max length. Defaulting to 'longest_first' truncation strategy. If you encode pairs of sequences (GLUE-style) with the tokenizer you can select this strategy more precisely by providing a specific strategy to `truncation`.\n"
          ],
          "name": "stderr"
        },
        {
          "output_type": "stream",
          "text": [
            "train Dataset(features: {'input_text': Value(dtype='string', id=None), 'target_text': Value(dtype='string', id=None)}, num_rows: 6718)\n",
            "valid Dataset(features: {'input_text': Value(dtype='string', id=None), 'target_text': Value(dtype='string', id=None)}, num_rows: 1216)\n"
          ],
          "name": "stdout"
        },
        {
          "output_type": "stream",
          "text": [
            "/usr/local/lib/python3.6/dist-packages/transformers/tokenization_utils_base.py:2143: FutureWarning: The `pad_to_max_length` argument is deprecated and will be removed in a future version, use `padding=True` or `padding='longest'` to pad to the longest sequence in the batch, or use `padding='max_length'` to pad to a max length. In this case, you can give a specific length with `max_length` (e.g. `max_length=45`) or leave max_length to None to pad to the maximal input size of the model (e.g. 512 for Bert).\n",
            "  FutureWarning,\n"
          ],
          "name": "stderr"
        },
        {
          "output_type": "display_data",
          "data": {
            "application/vnd.jupyter.widget-view+json": {
              "model_id": "aaaf60f5d3464bbe89cc5f9654788fef",
              "version_minor": 0,
              "version_major": 2
            },
            "text/plain": [
              "HBox(children=(FloatProgress(value=0.0, max=7.0), HTML(value='')))"
            ]
          },
          "metadata": {
            "tags": []
          }
        },
        {
          "output_type": "stream",
          "text": [
            "\n"
          ],
          "name": "stdout"
        },
        {
          "output_type": "display_data",
          "data": {
            "application/vnd.jupyter.widget-view+json": {
              "model_id": "6e4d85bf0f1d4ee79e982b1095861912",
              "version_minor": 0,
              "version_major": 2
            },
            "text/plain": [
              "HBox(children=(FloatProgress(value=0.0, max=2.0), HTML(value='')))"
            ]
          },
          "metadata": {
            "tags": []
          }
        },
        {
          "output_type": "stream",
          "text": [
            "\n"
          ],
          "name": "stdout"
        }
      ]
    },
    {
      "cell_type": "code",
      "metadata": {
        "colab": {
          "base_uri": "https://localhost:8080/",
          "height": 417
        },
        "id": "XdpyzaYctOpl",
        "outputId": "4b99ad3d-5b26-40a5-c359-4cb159400594"
      },
      "source": [
        "def main():\r\n",
        "    # See all possible arguments in src/transformers/training_args.py\r\n",
        "    # or by passing the --help flag to this script.\r\n",
        "    # We now keep distinct sets of args, for a cleaner separation of concerns.\r\n",
        "    parser = HfArgumentParser((ModelArguments, DataTrainingArguments, TrainingArguments))\r\n",
        "\r\n",
        "    # we will load the arguments from a json file, \r\n",
        "    #make sure you save the arguments in at ./args.json\r\n",
        "    model_args, data_args, training_args = parser.parse_json_file(json_file=os.path.abspath('args.json'))\r\n",
        "\r\n",
        "    if (\r\n",
        "        os.path.exists(training_args.output_dir)\r\n",
        "        and os.listdir(training_args.output_dir)\r\n",
        "        and training_args.do_train\r\n",
        "        and not training_args.overwrite_output_dir\r\n",
        "    ):\r\n",
        "        raise ValueError(\r\n",
        "            f\"Output directory ({training_args.output_dir}) already exists and is not empty. Use --overwrite_output_dir to overcome.\"\r\n",
        "        )\r\n",
        "\r\n",
        "    # Setup logging\r\n",
        "    logging.basicConfig(\r\n",
        "        format=\"%(asctime)s - %(levelname)s - %(name)s -   %(message)s\",\r\n",
        "        datefmt=\"%m/%d/%Y %H:%M:%S\",\r\n",
        "        level=logging.INFO if training_args.local_rank in [-1, 0] else logging.WARN,\r\n",
        "    )\r\n",
        "    logger.warning(\r\n",
        "        \"Process rank: %s, device: %s, n_gpu: %s, distributed training: %s, 16-bits training: %s\",\r\n",
        "        training_args.local_rank,\r\n",
        "        training_args.device,\r\n",
        "        training_args.n_gpu,\r\n",
        "        bool(training_args.local_rank != -1),\r\n",
        "        training_args.fp16,\r\n",
        "    )\r\n",
        "    logger.info(\"Training/evaluation parameters %s\", training_args)\r\n",
        "\r\n",
        "    # Set seed\r\n",
        "    set_seed(training_args.seed)\r\n",
        "\r\n",
        "    # Load pretrained model and tokenizer\r\n",
        "    tokenizer = T5Tokenizer.from_pretrained(\r\n",
        "        model_args.tokenizer_name if model_args.tokenizer_name else model_args.model_name_or_path,\r\n",
        "        cache_dir=model_args.cache_dir,\r\n",
        "    )\r\n",
        "\r\n",
        "    model = T5ForConditionalGeneration.from_pretrained(\r\n",
        "        model_args.model_name_or_path,\r\n",
        "        cache_dir=model_args.cache_dir,\r\n",
        "    )\r\n",
        "\r\n",
        "    # Get datasets\r\n",
        "    train_dataset  = torch.load(data_args.train_file_path)\r\n",
        "    valid_dataset = torch.load(data_args.valid_file_path)\r\n",
        "\r\n",
        "    # Initialize our Trainer\r\n",
        "    trainer = Trainer(\r\n",
        "        model=model,\r\n",
        "        args=training_args,\r\n",
        "        train_dataset=train_dataset,\r\n",
        "        eval_dataset=valid_dataset,\r\n",
        "        data_collator=T2TDataCollator(),\r\n",
        "    )\r\n",
        "    \r\n",
        "    # Training\r\n",
        "    if training_args.do_train:\r\n",
        "        loss = trainer.train(\r\n",
        "            model_path=model_args.model_name_or_path if os.path.isdir(model_args.model_name_or_path) else None\r\n",
        "        )\r\n",
        "        print(\"loss: \", loss)\r\n",
        "        trainer.save_model()\r\n",
        "        tokenizer.save_pretrained(training_args.output_dir)\r\n",
        "\r\n",
        "    # Evaluation\r\n",
        "    results = {}\r\n",
        "    if training_args.do_eval and training_args.local_rank in [-1, 0]:\r\n",
        "        logger.info(\"*** Evaluate ***\")\r\n",
        "\r\n",
        "        eval_output = trainer.evaluate()\r\n",
        "\r\n",
        "        output_eval_file = os.path.join(training_args.output_dir, \"eval_results.txt\")\r\n",
        "        with open(output_eval_file, \"w\") as writer:\r\n",
        "            logger.info(\"***** Eval results *****\")\r\n",
        "            for key in sorted(eval_output.keys()):\r\n",
        "                logger.info(\"  %s = %s\", key, str(eval_output[key]))\r\n",
        "                writer.write(\"%s = %s\\n\" % (key, str(eval_output[key])))\r\n",
        "    \r\n",
        "        results.update(eval_output)\r\n",
        "    \r\n",
        "    return results\r\n",
        "\r\n",
        "args_dict = {\r\n",
        "  \"num_cores\": 8,\r\n",
        "#   'training_script': 'train_t5_squad.py',\r\n",
        "#   \"model_name_or_path\": './pretrained/gpu/checkpoint-24000',\r\n",
        "  \"model_name_or_path\": 't5-small',\r\n",
        "  \"tokenizer_name\": 't5-small',\r\n",
        "  \"max_len\": 128 ,\r\n",
        "  \"target_max_len\": 12,\r\n",
        "  \"output_dir\": './models/gpu',\r\n",
        "  \"overwrite_output_dir\": True,\r\n",
        "  \"per_gpu_train_batch_size\": 32,\r\n",
        "  \"per_gpu_eval_batch_size\": 32,\r\n",
        "  \"gradient_accumulation_steps\": 4,\r\n",
        "  \"learning_rate\": 1e-4,\r\n",
        "  \"tpu_num_cores\": 8,\r\n",
        "  \"do_train\": True,\r\n",
        "  \"num_train_epochs\": 64,\r\n",
        "  \"save_steps\": 200\r\n",
        "}\r\n",
        "\r\n",
        "with open('args.json', 'w') as f:\r\n",
        "  json.dump(args_dict, f)\r\n",
        "\r\n",
        "\"\"\"Start training!\"\"\"\r\n",
        "main()"
      ],
      "execution_count": 47,
      "outputs": [
        {
          "output_type": "stream",
          "text": [
            "01/20/2021 20:51:10 - WARNING - __main__ -   Process rank: -1, device: cuda:0, n_gpu: 1, distributed training: False, 16-bits training: False\n",
            "01/20/2021 20:51:10 - INFO - __main__ -   Training/evaluation parameters TrainingArguments(output_dir=./models/gpu, overwrite_output_dir=True, do_train=True, do_eval=None, do_predict=False, evaluation_strategy=EvaluationStrategy.NO, prediction_loss_only=False, per_device_train_batch_size=8, per_device_eval_batch_size=8, gradient_accumulation_steps=4, eval_accumulation_steps=None, learning_rate=0.0001, weight_decay=0.0, adam_beta1=0.9, adam_beta2=0.999, adam_epsilon=1e-08, max_grad_norm=1.0, num_train_epochs=64, max_steps=-1, lr_scheduler_type=SchedulerType.LINEAR, warmup_steps=0, logging_dir=runs/Jan20_20-51-10_5211ff82f0a5, logging_first_step=False, logging_steps=500, save_steps=200, save_total_limit=None, no_cuda=False, seed=42, fp16=False, fp16_opt_level=O1, fp16_backend=auto, local_rank=-1, tpu_num_cores=8, tpu_metrics_debug=False, debug=False, dataloader_drop_last=False, eval_steps=500, dataloader_num_workers=0, past_index=-1, run_name=./models/gpu, disable_tqdm=False, remove_unused_columns=True, label_names=None, load_best_model_at_end=False, metric_for_best_model=None, greater_is_better=None, ignore_data_skip=False, sharded_ddp=False, deepspeed=None, label_smoothing_factor=0.0, adafactor=False, _n_gpu=1)\n",
            "Using deprecated `--per_gpu_train_batch_size` argument which will be removed in a future version. Using `--per_device_train_batch_size` is preferred.\n",
            "Using deprecated `--per_gpu_train_batch_size` argument which will be removed in a future version. Using `--per_device_train_batch_size` is preferred.\n",
            "Using deprecated `--per_gpu_train_batch_size` argument which will be removed in a future version. Using `--per_device_train_batch_size` is preferred.\n",
            "Using deprecated `--per_gpu_eval_batch_size` argument which will be removed in a future version. Using `--per_device_eval_batch_size` is preferred.\n"
          ],
          "name": "stderr"
        },
        {
          "output_type": "display_data",
          "data": {
            "text/html": [
              "\n",
              "    <div>\n",
              "        <style>\n",
              "            /* Turns off some styling */\n",
              "            progress {\n",
              "                /* gets rid of default border in Firefox and Opera. */\n",
              "                border: none;\n",
              "                /* Needs to be in here for Safari polyfill so background images work as expected. */\n",
              "                background-size: auto;\n",
              "            }\n",
              "        </style>\n",
              "      \n",
              "      <progress value='3328' max='3328' style='width:300px; height:20px; vertical-align: middle;'></progress>\n",
              "      [3328/3328 34:19, Epoch 63/64]\n",
              "    </div>\n",
              "    <table border=\"1\" class=\"dataframe\">\n",
              "  <thead>\n",
              "    <tr style=\"text-align: left;\">\n",
              "      <th>Step</th>\n",
              "      <th>Training Loss</th>\n",
              "    </tr>\n",
              "  </thead>\n",
              "  <tbody>\n",
              "    <tr>\n",
              "      <td>500</td>\n",
              "      <td>0.195700</td>\n",
              "    </tr>\n",
              "    <tr>\n",
              "      <td>1000</td>\n",
              "      <td>0.049200</td>\n",
              "    </tr>\n",
              "    <tr>\n",
              "      <td>1500</td>\n",
              "      <td>0.030900</td>\n",
              "    </tr>\n",
              "    <tr>\n",
              "      <td>2000</td>\n",
              "      <td>0.019000</td>\n",
              "    </tr>\n",
              "    <tr>\n",
              "      <td>2500</td>\n",
              "      <td>0.012700</td>\n",
              "    </tr>\n",
              "    <tr>\n",
              "      <td>3000</td>\n",
              "      <td>0.009200</td>\n",
              "    </tr>\n",
              "  </tbody>\n",
              "</table><p>"
            ],
            "text/plain": [
              "<IPython.core.display.HTML object>"
            ]
          },
          "metadata": {
            "tags": []
          }
        },
        {
          "output_type": "stream",
          "text": [
            "loss:  TrainOutput(global_step=3328, training_loss=0.0484048376003137, metrics={'train_runtime': 2060.2451, 'train_samples_per_second': 1.615, 'total_flos': 19976595910164480, 'epoch': 63.99})\n"
          ],
          "name": "stdout"
        },
        {
          "output_type": "execute_result",
          "data": {
            "text/plain": [
              "{}"
            ]
          },
          "metadata": {
            "tags": []
          },
          "execution_count": 47
        }
      ]
    },
    {
      "cell_type": "code",
      "metadata": {
        "colab": {
          "base_uri": "https://localhost:8080/"
        },
        "id": "DqpPzCJfBeWM",
        "outputId": "f9dd45cb-901c-47df-a144-273771ffff51"
      },
      "source": [
        "# F1: https://en.wikipedia.org/wiki/F-score\r\n",
        "\r\n",
        "## SQuAD evaluation script. Modifed slightly for this notebook\r\n",
        "from data_classes import ModelArguments\r\n",
        "from transformers import HfArgumentParser\r\n",
        "parser = HfArgumentParser(ModelArguments)\r\n",
        "\r\n",
        "from collections import Counter\r\n",
        "import string\r\n",
        "import re\r\n",
        "import argparse\r\n",
        "import json\r\n",
        "import sys\r\n",
        "import os\r\n",
        "import torch\r\n",
        "import nlp\r\n",
        "from transformers import T5ForConditionalGeneration, T5Tokenizer, set_seed \r\n",
        "from tqdm.auto import tqdm\r\n",
        "from os import listdir\r\n",
        "set_seed(42)\r\n",
        "\r\n",
        "\r\n",
        "def normalize_answer(s):\r\n",
        "    \"\"\"Lower text and remove punctuation, articles and extra whitespace.\"\"\"\r\n",
        "    def remove_articles(text):\r\n",
        "        return re.sub(r'\\b(a|an|the)\\b', ' ', text)\r\n",
        "\r\n",
        "    def white_space_fix(text):\r\n",
        "        return ' '.join(text.split())\r\n",
        "\r\n",
        "    def remove_punc(text):\r\n",
        "        exclude = set(string.punctuation)\r\n",
        "        return ''.join(ch for ch in text if ch not in exclude)\r\n",
        "\r\n",
        "    def lower(text):\r\n",
        "        return text.lower()\r\n",
        "\r\n",
        "    return white_space_fix(remove_articles(remove_punc(lower(s))))\r\n",
        "\r\n",
        "\r\n",
        "def f1_score(prediction, ground_truth):\r\n",
        "    prediction_tokens = normalize_answer(prediction).split()\r\n",
        "    ground_truth_tokens = normalize_answer(ground_truth).split()\r\n",
        "    common = Counter(prediction_tokens) & Counter(ground_truth_tokens)\r\n",
        "    num_same = sum(common.values())\r\n",
        "    if num_same == 0:\r\n",
        "        return 0\r\n",
        "    precision = 1.0 * num_same / len(prediction_tokens)\r\n",
        "    recall = 1.0 * num_same / len(ground_truth_tokens)\r\n",
        "    f1 = (2 * precision * recall) / (precision + recall)\r\n",
        "    return f1\r\n",
        "\r\n",
        "\r\n",
        "def exact_match_score(prediction, ground_truth):\r\n",
        "    return (normalize_answer(prediction) == normalize_answer(ground_truth))\r\n",
        "\r\n",
        "\r\n",
        "def evaluate(gold_answers, predictions):\r\n",
        "    f1 = exact_match = total = 0\r\n",
        "\r\n",
        "    for ground_truth, prediction in zip(gold_answers, predictions):\r\n",
        "      total += 1\r\n",
        "      exact_match += exact_match_score(prediction, ground_truth)\r\n",
        "      f1 += f1_score(prediction, ground_truth)\r\n",
        "    \r\n",
        "    exact_match = 100.0 * exact_match / total\r\n",
        "    f1 = 100.0 * f1 / total\r\n",
        "\r\n",
        "    return {'exact_match': exact_match, 'f1': f1}\r\n",
        "\r\n",
        "def clean(result):\r\n",
        "    result = result.replace(\"<pad>\",\"\")\r\n",
        "    result = result.replace(\"</s>\", \"\")\r\n",
        "    result = result.strip()\r\n",
        "    result = result.lower()\r\n",
        "    return result\r\n",
        "\r\n",
        "checkpoints = \"models/gpu/\"\r\n",
        "\r\n",
        "for checkpoint in sorted(listdir(checkpoints)):\r\n",
        "    # print(\"checkpoint:\", checkpoint)\r\n",
        "    if(checkpoint.split(\"-\")[0] != \"checkpoint\"):\r\n",
        "        continue\r\n",
        "    # if(checkpoint.split(\"-\")[1] != \"83000\"):\r\n",
        "    #     continue\r\n",
        "\r\n",
        "    print(checkpoint.split(\"-\")[1])\r\n",
        "\r\n",
        "    print(\"checkpoint:\", checkpoint)\r\n",
        "\r\n",
        "    model = T5ForConditionalGeneration.from_pretrained(checkpoints + checkpoint).to('cuda')\r\n",
        "\r\n",
        "    tokenizer = T5Tokenizer.from_pretrained('t5-small')\r\n",
        "\r\n",
        "    valid_dataset = torch.load('valid_data.pt')\r\n",
        "    dataloader = torch.utils.data.DataLoader(valid_dataset, batch_size=256)\r\n",
        "\r\n",
        "    answers = []\r\n",
        "    for batch in dataloader:\r\n",
        "      outs = model.generate(input_ids=batch['input_ids'].to('cuda'), \r\n",
        "                            attention_mask=batch['attention_mask'].to('cuda'),\r\n",
        "                            max_length=16,\r\n",
        "                            early_stopping=True)\r\n",
        "      outs = [tokenizer.decode(ids) for ids in outs]\r\n",
        "      answers.extend(outs)\r\n",
        "\r\n",
        "    predictions = []\r\n",
        "    references = []\r\n",
        "    for ref, pred in zip(valid_dataset, answers):\r\n",
        "      predictions.append(clean(pred))\r\n",
        "      references.append(clean(tokenizer.decode(ref['target_ids'])))\r\n",
        "\r\n",
        "    print(checkpoint, evaluate(references, predictions))"
      ],
      "execution_count": 48,
      "outputs": [
        {
          "output_type": "stream",
          "text": [
            "1000\n",
            "checkpoint: checkpoint-1000\n",
            "checkpoint-1000 {'exact_match': 88.15789473684211, 'f1': 94.07894736842105}\n",
            "1200\n",
            "checkpoint: checkpoint-1200\n",
            "checkpoint-1200 {'exact_match': 87.66447368421052, 'f1': 93.83223684210526}\n",
            "1400\n",
            "checkpoint: checkpoint-1400\n",
            "checkpoint-1400 {'exact_match': 88.32236842105263, 'f1': 94.16118421052632}\n",
            "1600\n",
            "checkpoint: checkpoint-1600\n",
            "checkpoint-1600 {'exact_match': 88.56907894736842, 'f1': 94.2845394736842}\n",
            "1800\n",
            "checkpoint: checkpoint-1800\n",
            "checkpoint-1800 {'exact_match': 88.07565789473684, 'f1': 94.03782894736842}\n",
            "200\n",
            "checkpoint: checkpoint-200\n",
            "checkpoint-200 {'exact_match': 83.38815789473684, 'f1': 91.69407894736842}\n",
            "2000\n",
            "checkpoint: checkpoint-2000\n",
            "checkpoint-2000 {'exact_match': 88.32236842105263, 'f1': 94.16118421052632}\n",
            "2200\n",
            "checkpoint: checkpoint-2200\n",
            "checkpoint-2200 {'exact_match': 87.5, 'f1': 93.75}\n",
            "2400\n",
            "checkpoint: checkpoint-2400\n",
            "checkpoint-2400 {'exact_match': 87.58223684210526, 'f1': 93.79111842105263}\n",
            "2600\n",
            "checkpoint: checkpoint-2600\n",
            "checkpoint-2600 {'exact_match': 87.41776315789474, 'f1': 93.70888157894737}\n",
            "2800\n",
            "checkpoint: checkpoint-2800\n",
            "checkpoint-2800 {'exact_match': 87.99342105263158, 'f1': 93.9967105263158}\n",
            "3000\n",
            "checkpoint: checkpoint-3000\n",
            "checkpoint-3000 {'exact_match': 88.32236842105263, 'f1': 94.16118421052632}\n",
            "3200\n",
            "checkpoint: checkpoint-3200\n",
            "checkpoint-3200 {'exact_match': 87.7467105263158, 'f1': 93.87335526315789}\n",
            "400\n",
            "checkpoint: checkpoint-400\n",
            "checkpoint-400 {'exact_match': 82.89473684210526, 'f1': 91.44736842105263}\n",
            "600\n",
            "checkpoint: checkpoint-600\n",
            "checkpoint-600 {'exact_match': 87.08881578947368, 'f1': 93.54440789473684}\n",
            "800\n",
            "checkpoint: checkpoint-800\n",
            "checkpoint-800 {'exact_match': 88.32236842105263, 'f1': 94.16118421052632}\n"
          ],
          "name": "stdout"
        }
      ]
    },
    {
      "cell_type": "code",
      "metadata": {
        "id": "vnLegKpNmtuA"
      },
      "source": [
        "# !pip install torchsummary\r\n",
        "# print(batch['input_ids'].to('cuda').shape)\r\n",
        "# from torchsummary import summary\r\n",
        "# summary(model, input_size=[17,128])\r\n",
        "# summary(model, input_size=[32128, 512])\r\n",
        "\r\n",
        "# print(model)"
      ],
      "execution_count": null,
      "outputs": []
    },
    {
      "cell_type": "code",
      "metadata": {
        "id": "qHtCOZvtk2Ms"
      },
      "source": [
        "!zip -r checkpoint-24000.zip models/gpu/checkpoint-24000"
      ],
      "execution_count": null,
      "outputs": []
    },
    {
      "cell_type": "code",
      "metadata": {
        "id": "Sxo2AUzDpAjy"
      },
      "source": [
        "!rm checkpoint-83000.zip"
      ],
      "execution_count": null,
      "outputs": []
    },
    {
      "cell_type": "code",
      "metadata": {
        "id": "mZgypfQvqIpW"
      },
      "source": [
        "from google.colab import drive\r\n",
        "drive.mount('/content/gdrive',force_remount=True)"
      ],
      "execution_count": null,
      "outputs": []
    },
    {
      "cell_type": "code",
      "metadata": {
        "id": "qpyxajMJq3zn"
      },
      "source": [
        "# !cp checkpoint-83000.zip gdrive/MyDrive/colab/\r\n",
        "!cp checkpoint-24000.zip gdrive/MyDrive/colab/"
      ],
      "execution_count": null,
      "outputs": []
    },
    {
      "cell_type": "code",
      "metadata": {
        "id": "OfHvMZW77rMI"
      },
      "source": [
        "!cp gdrive/MyDrive/colab/checkpoint-24000.zip ."
      ],
      "execution_count": null,
      "outputs": []
    },
    {
      "cell_type": "code",
      "metadata": {
        "id": "UXtQN22q74NH"
      },
      "source": [
        "!unzip checkpoint-20000.zip "
      ],
      "execution_count": null,
      "outputs": []
    },
    {
      "cell_type": "code",
      "metadata": {
        "id": "x9-MqOm8rRqm"
      },
      "source": [
        "!ls -lt gdrive/MyDrive/colab"
      ],
      "execution_count": null,
      "outputs": []
    }
  ]
}