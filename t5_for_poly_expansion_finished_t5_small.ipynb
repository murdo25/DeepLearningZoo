{
  "nbformat": 4,
  "nbformat_minor": 0,
  "metadata": {
    "colab": {
      "name": "scale_takehome.ipynb",
      "provenance": [],
      "collapsed_sections": [],
      "machine_shape": "hm",
      "authorship_tag": "ABX9TyM8fRn2qy5TjescyXIVcNCB",
      "include_colab_link": true
    },
    "kernelspec": {
      "name": "python3",
      "display_name": "Python 3"
    },
    "accelerator": "GPU"
  },
  "cells": [
    {
      "cell_type": "markdown",
      "metadata": {
        "id": "view-in-github",
        "colab_type": "text"
      },
      "source": [
        "<a href=\"https://colab.research.google.com/github/murdo25/DeepLearningZoo/blob/master/t5_for_poly_expansion_finished_t5_small.ipynb\" target=\"_parent\"><img src=\"https://colab.research.google.com/assets/colab-badge.svg\" alt=\"Open In Colab\"/></a>"
      ]
    },
    {
      "cell_type": "code",
      "metadata": {
        "colab": {
          "base_uri": "https://localhost:8080/"
        },
        "id": "JGT_DBjMi2aL",
        "outputId": "40eab3ae-5b0c-428e-b7a2-0d3fb3a867c7"
      },
      "source": [
        "!pip install nlp\r\n",
        "!pip install tqd\r\n",
        "!pip install transformers\r\n",
        "!pip install sentencepiece\r\n"
      ],
      "execution_count": 1,
      "outputs": [
        {
          "output_type": "stream",
          "text": [
            "Collecting nlp\n",
            "\u001b[?25l  Downloading https://files.pythonhosted.org/packages/09/e3/bcdc59f3434b224040c1047769c47b82705feca2b89ebbc28311e3764782/nlp-0.4.0-py3-none-any.whl (1.7MB)\n",
            "\u001b[K     |████████████████████████████████| 1.7MB 10.4MB/s \n",
            "\u001b[?25hRequirement already satisfied: filelock in /usr/local/lib/python3.6/dist-packages (from nlp) (3.0.12)\n",
            "Requirement already satisfied: dill in /usr/local/lib/python3.6/dist-packages (from nlp) (0.3.3)\n",
            "Requirement already satisfied: numpy in /usr/local/lib/python3.6/dist-packages (from nlp) (1.19.5)\n",
            "Requirement already satisfied: pandas in /usr/local/lib/python3.6/dist-packages (from nlp) (1.1.5)\n",
            "Requirement already satisfied: tqdm>=4.27 in /usr/local/lib/python3.6/dist-packages (from nlp) (4.41.1)\n",
            "Requirement already satisfied: dataclasses; python_version < \"3.7\" in /usr/local/lib/python3.6/dist-packages (from nlp) (0.8)\n",
            "Requirement already satisfied: requests>=2.19.0 in /usr/local/lib/python3.6/dist-packages (from nlp) (2.23.0)\n",
            "Collecting xxhash\n",
            "\u001b[?25l  Downloading https://files.pythonhosted.org/packages/f7/73/826b19f3594756cb1c6c23d2fbd8ca6a77a9cd3b650c9dec5acc85004c38/xxhash-2.0.0-cp36-cp36m-manylinux2010_x86_64.whl (242kB)\n",
            "\u001b[K     |████████████████████████████████| 245kB 15.3MB/s \n",
            "\u001b[?25hCollecting pyarrow>=0.16.0\n",
            "\u001b[?25l  Downloading https://files.pythonhosted.org/packages/d7/e1/27958a70848f8f7089bff8d6ebe42519daf01f976d28b481e1bfd52c8097/pyarrow-2.0.0-cp36-cp36m-manylinux2014_x86_64.whl (17.7MB)\n",
            "\u001b[K     |████████████████████████████████| 17.7MB 294kB/s \n",
            "\u001b[?25hRequirement already satisfied: pytz>=2017.2 in /usr/local/lib/python3.6/dist-packages (from pandas->nlp) (2018.9)\n",
            "Requirement already satisfied: python-dateutil>=2.7.3 in /usr/local/lib/python3.6/dist-packages (from pandas->nlp) (2.8.1)\n",
            "Requirement already satisfied: idna<3,>=2.5 in /usr/local/lib/python3.6/dist-packages (from requests>=2.19.0->nlp) (2.10)\n",
            "Requirement already satisfied: chardet<4,>=3.0.2 in /usr/local/lib/python3.6/dist-packages (from requests>=2.19.0->nlp) (3.0.4)\n",
            "Requirement already satisfied: certifi>=2017.4.17 in /usr/local/lib/python3.6/dist-packages (from requests>=2.19.0->nlp) (2020.12.5)\n",
            "Requirement already satisfied: urllib3!=1.25.0,!=1.25.1,<1.26,>=1.21.1 in /usr/local/lib/python3.6/dist-packages (from requests>=2.19.0->nlp) (1.24.3)\n",
            "Requirement already satisfied: six>=1.5 in /usr/local/lib/python3.6/dist-packages (from python-dateutil>=2.7.3->pandas->nlp) (1.15.0)\n",
            "Installing collected packages: xxhash, pyarrow, nlp\n",
            "  Found existing installation: pyarrow 0.14.1\n",
            "    Uninstalling pyarrow-0.14.1:\n",
            "      Successfully uninstalled pyarrow-0.14.1\n",
            "Successfully installed nlp-0.4.0 pyarrow-2.0.0 xxhash-2.0.0\n",
            "\u001b[31mERROR: Could not find a version that satisfies the requirement tqd (from versions: none)\u001b[0m\n",
            "\u001b[31mERROR: No matching distribution found for tqd\u001b[0m\n",
            "Collecting transformers\n",
            "\u001b[?25l  Downloading https://files.pythonhosted.org/packages/cd/40/866cbfac4601e0f74c7303d533a9c5d4a53858bd402e08e3e294dd271f25/transformers-4.2.1-py3-none-any.whl (1.8MB)\n",
            "\u001b[K     |████████████████████████████████| 1.8MB 7.8MB/s \n",
            "\u001b[?25hRequirement already satisfied: numpy in /usr/local/lib/python3.6/dist-packages (from transformers) (1.19.5)\n",
            "Requirement already satisfied: packaging in /usr/local/lib/python3.6/dist-packages (from transformers) (20.8)\n",
            "Requirement already satisfied: tqdm>=4.27 in /usr/local/lib/python3.6/dist-packages (from transformers) (4.41.1)\n",
            "Requirement already satisfied: filelock in /usr/local/lib/python3.6/dist-packages (from transformers) (3.0.12)\n",
            "Collecting tokenizers==0.9.4\n",
            "\u001b[?25l  Downloading https://files.pythonhosted.org/packages/0f/1c/e789a8b12e28be5bc1ce2156cf87cb522b379be9cadc7ad8091a4cc107c4/tokenizers-0.9.4-cp36-cp36m-manylinux2010_x86_64.whl (2.9MB)\n",
            "\u001b[K     |████████████████████████████████| 2.9MB 35.5MB/s \n",
            "\u001b[?25hRequirement already satisfied: dataclasses; python_version < \"3.7\" in /usr/local/lib/python3.6/dist-packages (from transformers) (0.8)\n",
            "Collecting sacremoses\n",
            "\u001b[?25l  Downloading https://files.pythonhosted.org/packages/7d/34/09d19aff26edcc8eb2a01bed8e98f13a1537005d31e95233fd48216eed10/sacremoses-0.0.43.tar.gz (883kB)\n",
            "\u001b[K     |████████████████████████████████| 890kB 31.9MB/s \n",
            "\u001b[?25hRequirement already satisfied: importlib-metadata; python_version < \"3.8\" in /usr/local/lib/python3.6/dist-packages (from transformers) (3.3.0)\n",
            "Requirement already satisfied: requests in /usr/local/lib/python3.6/dist-packages (from transformers) (2.23.0)\n",
            "Requirement already satisfied: regex!=2019.12.17 in /usr/local/lib/python3.6/dist-packages (from transformers) (2019.12.20)\n",
            "Requirement already satisfied: pyparsing>=2.0.2 in /usr/local/lib/python3.6/dist-packages (from packaging->transformers) (2.4.7)\n",
            "Requirement already satisfied: six in /usr/local/lib/python3.6/dist-packages (from sacremoses->transformers) (1.15.0)\n",
            "Requirement already satisfied: click in /usr/local/lib/python3.6/dist-packages (from sacremoses->transformers) (7.1.2)\n",
            "Requirement already satisfied: joblib in /usr/local/lib/python3.6/dist-packages (from sacremoses->transformers) (1.0.0)\n",
            "Requirement already satisfied: typing-extensions>=3.6.4; python_version < \"3.8\" in /usr/local/lib/python3.6/dist-packages (from importlib-metadata; python_version < \"3.8\"->transformers) (3.7.4.3)\n",
            "Requirement already satisfied: zipp>=0.5 in /usr/local/lib/python3.6/dist-packages (from importlib-metadata; python_version < \"3.8\"->transformers) (3.4.0)\n",
            "Requirement already satisfied: chardet<4,>=3.0.2 in /usr/local/lib/python3.6/dist-packages (from requests->transformers) (3.0.4)\n",
            "Requirement already satisfied: urllib3!=1.25.0,!=1.25.1,<1.26,>=1.21.1 in /usr/local/lib/python3.6/dist-packages (from requests->transformers) (1.24.3)\n",
            "Requirement already satisfied: certifi>=2017.4.17 in /usr/local/lib/python3.6/dist-packages (from requests->transformers) (2020.12.5)\n",
            "Requirement already satisfied: idna<3,>=2.5 in /usr/local/lib/python3.6/dist-packages (from requests->transformers) (2.10)\n",
            "Building wheels for collected packages: sacremoses\n",
            "  Building wheel for sacremoses (setup.py) ... \u001b[?25l\u001b[?25hdone\n",
            "  Created wheel for sacremoses: filename=sacremoses-0.0.43-cp36-none-any.whl size=893261 sha256=4c0d2c4282bab75b6832927705060cc30ab4b498291f8d1edd0d03eddb069966\n",
            "  Stored in directory: /root/.cache/pip/wheels/29/3c/fd/7ce5c3f0666dab31a50123635e6fb5e19ceb42ce38d4e58f45\n",
            "Successfully built sacremoses\n",
            "Installing collected packages: tokenizers, sacremoses, transformers\n",
            "Successfully installed sacremoses-0.0.43 tokenizers-0.9.4 transformers-4.2.1\n",
            "Collecting sentencepiece\n",
            "\u001b[?25l  Downloading https://files.pythonhosted.org/packages/14/67/e42bd1181472c95c8cda79305df848264f2a7f62740995a46945d9797b67/sentencepiece-0.1.95-cp36-cp36m-manylinux2014_x86_64.whl (1.2MB)\n",
            "\u001b[K     |████████████████████████████████| 1.2MB 8.4MB/s \n",
            "\u001b[?25hInstalling collected packages: sentencepiece\n",
            "Successfully installed sentencepiece-0.1.95\n"
          ],
          "name": "stdout"
        }
      ]
    },
    {
      "cell_type": "code",
      "metadata": {
        "id": "o1ERwJ2HiC28"
      },
      "source": [
        "from nlp import Dataset\r\n",
        "\r\n",
        "def clean(data_path):\r\n",
        "    open_file = open(data_path, 'r').readlines()\r\n",
        "\r\n",
        "    lines = []\r\n",
        "    # Strips the newline character \r\n",
        "    for line in open_file: \r\n",
        "        line = line.strip()\r\n",
        "        lines.append(line)\r\n",
        "    return lines\r\n",
        "\r\n",
        "def build_dataset(data_file):\r\n",
        "\r\n",
        "    lines = clean(data_file)\r\n",
        "\r\n",
        "    datapoints = {}\r\n",
        "    datapoints['input_text']= []\r\n",
        "    datapoints['target_text']= []\r\n",
        "\r\n",
        "    for line in lines:\r\n",
        "\r\n",
        "        # Split the first half  and second half\r\n",
        "        input_text, target_text = line.split('=')\r\n",
        "\r\n",
        "        # Construct positive example \r\n",
        "        datapoints['input_text'].append(input_text)\r\n",
        "        datapoints['target_text'].append(target_text)\r\n",
        "\r\n",
        "    assert len(datapoints['target_text']) == len(datapoints['input_text']), \"incorrect data distribution\"\r\n",
        "\r\n",
        "    # from nlp import Dataset\r\n",
        "    return Dataset.from_dict(datapoints)\r\n"
      ],
      "execution_count": 2,
      "outputs": []
    },
    {
      "cell_type": "code",
      "metadata": {
        "id": "L_30qDIdtHGD"
      },
      "source": [
        "import tqdm\r\n",
        "import torch\r\n",
        "import nlp\r\n",
        "from transformers import T5Tokenizer\r\n",
        "import json\r\n",
        "import dataclasses\r\n",
        "import logging\r\n",
        "import os\r\n",
        "import sys\r\n",
        "from dataclasses import dataclass, field\r\n",
        "from typing import Dict, List, Optional\r\n",
        "import numpy as np\r\n",
        "\r\n",
        "tokenizer = T5Tokenizer.from_pretrained('t5-small')\r\n"
      ],
      "execution_count": 21,
      "outputs": []
    },
    {
      "cell_type": "code",
      "metadata": {
        "colab": {
          "base_uri": "https://localhost:8080/",
          "height": 350
        },
        "id": "FVCEweb4qQmN",
        "outputId": "fa39454c-26da-4752-c56f-bc1708dc9ef1"
      },
      "source": [
        "# tokenize the examples\r\n",
        "def convert_to_features(example_batch):\r\n",
        "    input_encodings  = tokenizer.batch_encode_plus(example_batch['input_text'], pad_to_max_length=True, max_length=128)\r\n",
        "    target_encodings = tokenizer.batch_encode_plus(example_batch['target_text'], pad_to_max_length=True, max_length=129)\r\n",
        "\r\n",
        "    encodings = {\r\n",
        "        'input_ids': input_encodings['input_ids'], \r\n",
        "        'attention_mask': input_encodings['attention_mask'],\r\n",
        "        'target_ids': target_encodings['input_ids'],\r\n",
        "        'target_attention_mask': target_encodings['attention_mask']\r\n",
        "    }\r\n",
        "\r\n",
        "    return encodings\r\n",
        "\r\n",
        "\r\n",
        "train_dataset = build_dataset('half_train_set.txt')\r\n",
        "valid_dataset = build_dataset('validation_set_10k.txt')\r\n",
        "\r\n",
        "\r\n",
        "# map convert_to_features batch wise\r\n",
        "train_dataset = train_dataset.map(convert_to_features, batched=True)\r\n",
        "valid_dataset = valid_dataset.map(convert_to_features, batched=True, load_from_cache_file=False)\r\n",
        "\r\n",
        "# set the tensor type and the columns which the dataset should return\r\n",
        "columns = ['input_ids', 'target_ids', 'attention_mask', 'target_attention_mask']\r\n",
        "train_dataset.set_format(type='torch', columns=columns)\r\n",
        "valid_dataset.set_format(type='torch', columns=columns)\r\n",
        "\r\n",
        "# cach the dataset, so we can load it directly for training\r\n",
        "\r\n",
        "torch.save(train_dataset, 'train_data.pt')\r\n",
        "torch.save(valid_dataset, 'valid_data.pt')\r\n",
        "\r\n",
        "\r\n",
        "from transformers import T5ForConditionalGeneration, T5Tokenizer, EvalPrediction\r\n",
        "from transformers import (\r\n",
        "    HfArgumentParser,\r\n",
        "    DataCollator,\r\n",
        "    Trainer,\r\n",
        "    TrainingArguments,\r\n",
        "    set_seed,\r\n",
        ")\r\n",
        "\r\n",
        "\r\n",
        "logger = logging.getLogger(__name__)\r\n",
        "\r\n",
        "from data_classes import T2TDataCollator, ModelArguments, DataTrainingArguments\r\n"
      ],
      "execution_count": 18,
      "outputs": [
        {
          "output_type": "error",
          "ename": "ValueError",
          "evalue": "ignored",
          "traceback": [
            "\u001b[0;31m---------------------------------------------------------------------------\u001b[0m",
            "\u001b[0;31mValueError\u001b[0m                                Traceback (most recent call last)",
            "\u001b[0;32m<ipython-input-18-e6e81423b47e>\u001b[0m in \u001b[0;36m<module>\u001b[0;34m()\u001b[0m\n\u001b[1;32m     14\u001b[0m \u001b[0;34m\u001b[0m\u001b[0m\n\u001b[1;32m     15\u001b[0m \u001b[0;34m\u001b[0m\u001b[0m\n\u001b[0;32m---> 16\u001b[0;31m \u001b[0mtrain_dataset\u001b[0m \u001b[0;34m=\u001b[0m \u001b[0mbuild_dataset\u001b[0m\u001b[0;34m(\u001b[0m\u001b[0;34m'half_train_set.txt'\u001b[0m\u001b[0;34m)\u001b[0m\u001b[0;34m\u001b[0m\u001b[0;34m\u001b[0m\u001b[0m\n\u001b[0m\u001b[1;32m     17\u001b[0m \u001b[0mvalid_dataset\u001b[0m \u001b[0;34m=\u001b[0m \u001b[0mbuild_dataset\u001b[0m\u001b[0;34m(\u001b[0m\u001b[0;34m'validation_set_10k.txt'\u001b[0m\u001b[0;34m)\u001b[0m\u001b[0;34m\u001b[0m\u001b[0;34m\u001b[0m\u001b[0m\n\u001b[1;32m     18\u001b[0m \u001b[0;34m\u001b[0m\u001b[0m\n",
            "\u001b[0;32m<ipython-input-2-43316f1332f2>\u001b[0m in \u001b[0;36mbuild_dataset\u001b[0;34m(data_file)\u001b[0m\n\u001b[1;32m     22\u001b[0m \u001b[0;34m\u001b[0m\u001b[0m\n\u001b[1;32m     23\u001b[0m         \u001b[0;31m# Split the first half  and second half\u001b[0m\u001b[0;34m\u001b[0m\u001b[0;34m\u001b[0m\u001b[0;34m\u001b[0m\u001b[0m\n\u001b[0;32m---> 24\u001b[0;31m         \u001b[0minput_text\u001b[0m\u001b[0;34m,\u001b[0m \u001b[0mtarget_text\u001b[0m \u001b[0;34m=\u001b[0m \u001b[0mline\u001b[0m\u001b[0;34m.\u001b[0m\u001b[0msplit\u001b[0m\u001b[0;34m(\u001b[0m\u001b[0;34m'='\u001b[0m\u001b[0;34m)\u001b[0m\u001b[0;34m\u001b[0m\u001b[0;34m\u001b[0m\u001b[0m\n\u001b[0m\u001b[1;32m     25\u001b[0m \u001b[0;34m\u001b[0m\u001b[0m\n\u001b[1;32m     26\u001b[0m         \u001b[0;31m# Construct positive example\u001b[0m\u001b[0;34m\u001b[0m\u001b[0;34m\u001b[0m\u001b[0;34m\u001b[0m\u001b[0m\n",
            "\u001b[0;31mValueError\u001b[0m: not enough values to unpack (expected 2, got 1)"
          ]
        }
      ]
    },
    {
      "cell_type": "code",
      "metadata": {
        "colab": {
          "base_uri": "https://localhost:8080/",
          "height": 878
        },
        "id": "XdpyzaYctOpl",
        "outputId": "e22dd069-f381-4fa5-96e5-e46e79b09501"
      },
      "source": [
        "def main():\r\n",
        "    # See all possible arguments in src/transformers/training_args.py\r\n",
        "    # or by passing the --help flag to this script.\r\n",
        "    # We now keep distinct sets of args, for a cleaner separation of concerns.\r\n",
        "    parser = HfArgumentParser((ModelArguments, DataTrainingArguments, TrainingArguments))\r\n",
        "\r\n",
        "    # we will load the arguments from a json file, \r\n",
        "    #make sure you save the arguments in at ./args.json\r\n",
        "    model_args, data_args, training_args = parser.parse_json_file(json_file=os.path.abspath('args.json'))\r\n",
        "\r\n",
        "    if (\r\n",
        "        os.path.exists(training_args.output_dir)\r\n",
        "        and os.listdir(training_args.output_dir)\r\n",
        "        and training_args.do_train\r\n",
        "        and not training_args.overwrite_output_dir\r\n",
        "    ):\r\n",
        "        raise ValueError(\r\n",
        "            f\"Output directory ({training_args.output_dir}) already exists and is not empty. Use --overwrite_output_dir to overcome.\"\r\n",
        "        )\r\n",
        "\r\n",
        "    # Setup logging\r\n",
        "    logging.basicConfig(\r\n",
        "        format=\"%(asctime)s - %(levelname)s - %(name)s -   %(message)s\",\r\n",
        "        datefmt=\"%m/%d/%Y %H:%M:%S\",\r\n",
        "        level=logging.INFO if training_args.local_rank in [-1, 0] else logging.WARN,\r\n",
        "    )\r\n",
        "    logger.warning(\r\n",
        "        \"Process rank: %s, device: %s, n_gpu: %s, distributed training: %s, 16-bits training: %s\",\r\n",
        "        training_args.local_rank,\r\n",
        "        training_args.device,\r\n",
        "        training_args.n_gpu,\r\n",
        "        bool(training_args.local_rank != -1),\r\n",
        "        training_args.fp16,\r\n",
        "    )\r\n",
        "    logger.info(\"Training/evaluation parameters %s\", training_args)\r\n",
        "\r\n",
        "    # Set seed\r\n",
        "    set_seed(training_args.seed)\r\n",
        "\r\n",
        "    # Load pretrained model and tokenizer\r\n",
        "    tokenizer = T5Tokenizer.from_pretrained(\r\n",
        "        model_args.tokenizer_name if model_args.tokenizer_name else model_args.model_name_or_path,\r\n",
        "        cache_dir=model_args.cache_dir,\r\n",
        "    )\r\n",
        "\r\n",
        "    model = T5ForConditionalGeneration.from_pretrained(\r\n",
        "        model_args.model_name_or_path,\r\n",
        "        cache_dir=model_args.cache_dir,\r\n",
        "    )\r\n",
        "\r\n",
        "    # Get datasets\r\n",
        "    train_dataset  = torch.load(data_args.train_file_path)\r\n",
        "    valid_dataset = torch.load(data_args.valid_file_path)\r\n",
        "\r\n",
        "    # Initialize our Trainer\r\n",
        "    trainer = Trainer(\r\n",
        "        model=model,\r\n",
        "        args=training_args,\r\n",
        "        train_dataset=train_dataset,\r\n",
        "        eval_dataset=valid_dataset,\r\n",
        "        data_collator=T2TDataCollator(),\r\n",
        "    )\r\n",
        "    \r\n",
        "    # Training\r\n",
        "    if training_args.do_train:\r\n",
        "        loss = trainer.train(\r\n",
        "            model_path=model_args.model_name_or_path if os.path.isdir(model_args.model_name_or_path) else None\r\n",
        "        )\r\n",
        "        print(\"loss: \", loss)\r\n",
        "        trainer.save_model()\r\n",
        "        tokenizer.save_pretrained(training_args.output_dir)\r\n",
        "\r\n",
        "    # Evaluation\r\n",
        "    results = {}\r\n",
        "    if training_args.do_eval and training_args.local_rank in [-1, 0]:\r\n",
        "        logger.info(\"*** Evaluate ***\")\r\n",
        "\r\n",
        "        eval_output = trainer.evaluate()\r\n",
        "\r\n",
        "        output_eval_file = os.path.join(training_args.output_dir, \"eval_results.txt\")\r\n",
        "        with open(output_eval_file, \"w\") as writer:\r\n",
        "            logger.info(\"***** Eval results *****\")\r\n",
        "            for key in sorted(eval_output.keys()):\r\n",
        "                logger.info(\"  %s = %s\", key, str(eval_output[key]))\r\n",
        "                writer.write(\"%s = %s\\n\" % (key, str(eval_output[key])))\r\n",
        "    \r\n",
        "        results.update(eval_output)\r\n",
        "    \r\n",
        "    return results\r\n",
        "\r\n",
        "args_dict = {\r\n",
        "  \"num_cores\": 8,\r\n",
        "  'training_script': 'train_t5_squad.py',\r\n",
        "#   \"model_name_or_path\": './pretrained/gpu/checkpoint-24000',\r\n",
        "  \"model_name_or_path\": 't5-small',\r\n",
        "  \"tokenizer_name\": 't5-small',\r\n",
        "  \"max_len\": 128 ,\r\n",
        "  \"target_max_len\": 128,\r\n",
        "  \"output_dir\": './models/gpu',\r\n",
        "  \"overwrite_output_dir\": True,\r\n",
        "  \"per_gpu_train_batch_size\": 32,\r\n",
        "  \"per_gpu_eval_batch_size\": 32,\r\n",
        "  \"gradient_accumulation_steps\": 4,\r\n",
        "  \"learning_rate\": 1e-4,\r\n",
        "  \"tpu_num_cores\": 8,\r\n",
        "  \"do_train\": True,\r\n",
        "  \"num_train_epochs\": 32\r\n",
        "  \"save_total_limit=4\"\r\n",
        "}\r\n",
        "\r\n",
        "with open('args.json', 'w') as f:\r\n",
        "  json.dump(args_dict, f)\r\n",
        "\r\n",
        "\"\"\"Start training!\"\"\"\r\n",
        "main()"
      ],
      "execution_count": 22,
      "outputs": [
        {
          "output_type": "stream",
          "text": [
            "01/16/2021 21:01:44 - WARNING - __main__ -   Process rank: -1, device: cuda:0, n_gpu: 1, distributed training: False, 16-bits training: False\n",
            "01/16/2021 21:01:44 - INFO - __main__ -   Training/evaluation parameters TrainingArguments(output_dir=./models/gpu, overwrite_output_dir=False, do_train=True, do_eval=None, do_predict=False, evaluation_strategy=EvaluationStrategy.NO, prediction_loss_only=False, per_device_train_batch_size=8, per_device_eval_batch_size=8, gradient_accumulation_steps=4, eval_accumulation_steps=None, learning_rate=0.0001, weight_decay=0.0, adam_beta1=0.9, adam_beta2=0.999, adam_epsilon=1e-08, max_grad_norm=1.0, num_train_epochs=32, max_steps=-1, lr_scheduler_type=SchedulerType.LINEAR, warmup_steps=0, logging_dir=runs/Jan16_21-01-44_6cb14feb825f, logging_first_step=False, logging_steps=500, save_steps=500, save_total_limit=None, no_cuda=False, seed=42, fp16=False, fp16_opt_level=O1, fp16_backend=auto, local_rank=-1, tpu_num_cores=8, tpu_metrics_debug=False, debug=False, dataloader_drop_last=False, eval_steps=500, dataloader_num_workers=0, past_index=-1, run_name=./models/gpu, disable_tqdm=False, remove_unused_columns=True, label_names=None, load_best_model_at_end=False, metric_for_best_model=None, greater_is_better=None, ignore_data_skip=False, sharded_ddp=False, deepspeed=None, label_smoothing_factor=0.0, adafactor=False, _n_gpu=1)\n",
            "Using deprecated `--per_gpu_train_batch_size` argument which will be removed in a future version. Using `--per_device_train_batch_size` is preferred.\n",
            "Using deprecated `--per_gpu_train_batch_size` argument which will be removed in a future version. Using `--per_device_train_batch_size` is preferred.\n",
            "Using deprecated `--per_gpu_train_batch_size` argument which will be removed in a future version. Using `--per_device_train_batch_size` is preferred.\n",
            "Using deprecated `--per_gpu_eval_batch_size` argument which will be removed in a future version. Using `--per_device_eval_batch_size` is preferred.\n"
          ],
          "name": "stderr"
        },
        {
          "output_type": "display_data",
          "data": {
            "text/html": [
              "\n",
              "    <div>\n",
              "        <style>\n",
              "            /* Turns off some styling */\n",
              "            progress {\n",
              "                /* gets rid of default border in Firefox and Opera. */\n",
              "                border: none;\n",
              "                /* Needs to be in here for Safari polyfill so background images work as expected. */\n",
              "                background-size: auto;\n",
              "            }\n",
              "        </style>\n",
              "      \n",
              "      <progress value='25848' max='124992' style='width:300px; height:20px; vertical-align: middle;'></progress>\n",
              "      [ 25848/124992 2:33:03 < 43:15:38, 0.64 it/s, Epoch 6.62/32]\n",
              "    </div>\n",
              "    <table border=\"1\" class=\"dataframe\">\n",
              "  <thead>\n",
              "    <tr style=\"text-align: left;\">\n",
              "      <th>Step</th>\n",
              "      <th>Training Loss</th>\n",
              "    </tr>\n",
              "  </thead>\n",
              "  <tbody>\n",
              "    <tr>\n",
              "      <td>20500</td>\n",
              "      <td>0.001100</td>\n",
              "    </tr>\n",
              "    <tr>\n",
              "      <td>21000</td>\n",
              "      <td>0.044800</td>\n",
              "    </tr>\n",
              "    <tr>\n",
              "      <td>21500</td>\n",
              "      <td>0.043900</td>\n",
              "    </tr>\n",
              "    <tr>\n",
              "      <td>22000</td>\n",
              "      <td>0.042700</td>\n",
              "    </tr>\n",
              "    <tr>\n",
              "      <td>22500</td>\n",
              "      <td>0.042100</td>\n",
              "    </tr>\n",
              "    <tr>\n",
              "      <td>23000</td>\n",
              "      <td>0.041500</td>\n",
              "    </tr>\n",
              "    <tr>\n",
              "      <td>23500</td>\n",
              "      <td>0.040800</td>\n",
              "    </tr>\n",
              "    <tr>\n",
              "      <td>24000</td>\n",
              "      <td>0.039600</td>\n",
              "    </tr>\n",
              "    <tr>\n",
              "      <td>24500</td>\n",
              "      <td>0.038900</td>\n",
              "    </tr>\n",
              "    <tr>\n",
              "      <td>25000</td>\n",
              "      <td>0.038000</td>\n",
              "    </tr>\n",
              "    <tr>\n",
              "      <td>25500</td>\n",
              "      <td>0.037100</td>\n",
              "    </tr>\n",
              "  </tbody>\n",
              "</table><p>"
            ],
            "text/plain": [
              "<IPython.core.display.HTML object>"
            ]
          },
          "metadata": {
            "tags": []
          }
        },
        {
          "output_type": "error",
          "ename": "KeyboardInterrupt",
          "evalue": "ignored",
          "traceback": [
            "\u001b[0;31m---------------------------------------------------------------------------\u001b[0m",
            "\u001b[0;31mKeyboardInterrupt\u001b[0m                         Traceback (most recent call last)",
            "\u001b[0;32m<ipython-input-22-d0e3c010ba70>\u001b[0m in \u001b[0;36m<module>\u001b[0;34m()\u001b[0m\n\u001b[1;32m    112\u001b[0m \u001b[0;34m\u001b[0m\u001b[0m\n\u001b[1;32m    113\u001b[0m \u001b[0;34m\"\"\"Start training!\"\"\"\u001b[0m\u001b[0;34m\u001b[0m\u001b[0;34m\u001b[0m\u001b[0m\n\u001b[0;32m--> 114\u001b[0;31m \u001b[0mmain\u001b[0m\u001b[0;34m(\u001b[0m\u001b[0;34m)\u001b[0m\u001b[0;34m\u001b[0m\u001b[0;34m\u001b[0m\u001b[0m\n\u001b[0m",
            "\u001b[0;32m<ipython-input-22-d0e3c010ba70>\u001b[0m in \u001b[0;36mmain\u001b[0;34m()\u001b[0m\n\u001b[1;32m     65\u001b[0m     \u001b[0;32mif\u001b[0m \u001b[0mtraining_args\u001b[0m\u001b[0;34m.\u001b[0m\u001b[0mdo_train\u001b[0m\u001b[0;34m:\u001b[0m\u001b[0;34m\u001b[0m\u001b[0;34m\u001b[0m\u001b[0m\n\u001b[1;32m     66\u001b[0m         loss = trainer.train(\n\u001b[0;32m---> 67\u001b[0;31m             \u001b[0mmodel_path\u001b[0m\u001b[0;34m=\u001b[0m\u001b[0mmodel_args\u001b[0m\u001b[0;34m.\u001b[0m\u001b[0mmodel_name_or_path\u001b[0m \u001b[0;32mif\u001b[0m \u001b[0mos\u001b[0m\u001b[0;34m.\u001b[0m\u001b[0mpath\u001b[0m\u001b[0;34m.\u001b[0m\u001b[0misdir\u001b[0m\u001b[0;34m(\u001b[0m\u001b[0mmodel_args\u001b[0m\u001b[0;34m.\u001b[0m\u001b[0mmodel_name_or_path\u001b[0m\u001b[0;34m)\u001b[0m \u001b[0;32melse\u001b[0m \u001b[0;32mNone\u001b[0m\u001b[0;34m\u001b[0m\u001b[0;34m\u001b[0m\u001b[0m\n\u001b[0m\u001b[1;32m     68\u001b[0m         )\n\u001b[1;32m     69\u001b[0m         \u001b[0mprint\u001b[0m\u001b[0;34m(\u001b[0m\u001b[0;34m\"loss: \"\u001b[0m\u001b[0;34m,\u001b[0m \u001b[0mloss\u001b[0m\u001b[0;34m)\u001b[0m\u001b[0;34m\u001b[0m\u001b[0;34m\u001b[0m\u001b[0m\n",
            "\u001b[0;32m/usr/local/lib/python3.6/dist-packages/transformers/trainer.py\u001b[0m in \u001b[0;36mtrain\u001b[0;34m(self, model_path, trial)\u001b[0m\n\u001b[1;32m    886\u001b[0m                         \u001b[0mtr_loss\u001b[0m \u001b[0;34m+=\u001b[0m \u001b[0mself\u001b[0m\u001b[0;34m.\u001b[0m\u001b[0mtraining_step\u001b[0m\u001b[0;34m(\u001b[0m\u001b[0mmodel\u001b[0m\u001b[0;34m,\u001b[0m \u001b[0minputs\u001b[0m\u001b[0;34m)\u001b[0m\u001b[0;34m\u001b[0m\u001b[0;34m\u001b[0m\u001b[0m\n\u001b[1;32m    887\u001b[0m                 \u001b[0;32melse\u001b[0m\u001b[0;34m:\u001b[0m\u001b[0;34m\u001b[0m\u001b[0;34m\u001b[0m\u001b[0m\n\u001b[0;32m--> 888\u001b[0;31m                     \u001b[0mtr_loss\u001b[0m \u001b[0;34m+=\u001b[0m \u001b[0mself\u001b[0m\u001b[0;34m.\u001b[0m\u001b[0mtraining_step\u001b[0m\u001b[0;34m(\u001b[0m\u001b[0mmodel\u001b[0m\u001b[0;34m,\u001b[0m \u001b[0minputs\u001b[0m\u001b[0;34m)\u001b[0m\u001b[0;34m\u001b[0m\u001b[0;34m\u001b[0m\u001b[0m\n\u001b[0m\u001b[1;32m    889\u001b[0m                 \u001b[0mself\u001b[0m\u001b[0;34m.\u001b[0m\u001b[0m_total_flos\u001b[0m \u001b[0;34m+=\u001b[0m \u001b[0mself\u001b[0m\u001b[0;34m.\u001b[0m\u001b[0mfloating_point_ops\u001b[0m\u001b[0;34m(\u001b[0m\u001b[0minputs\u001b[0m\u001b[0;34m)\u001b[0m\u001b[0;34m\u001b[0m\u001b[0;34m\u001b[0m\u001b[0m\n\u001b[1;32m    890\u001b[0m \u001b[0;34m\u001b[0m\u001b[0m\n",
            "\u001b[0;32m/usr/local/lib/python3.6/dist-packages/transformers/trainer.py\u001b[0m in \u001b[0;36mtraining_step\u001b[0;34m(self, model, inputs)\u001b[0m\n\u001b[1;32m   1265\u001b[0m             \u001b[0mself\u001b[0m\u001b[0;34m.\u001b[0m\u001b[0mmodel_wrapped\u001b[0m\u001b[0;34m.\u001b[0m\u001b[0mmodule\u001b[0m\u001b[0;34m.\u001b[0m\u001b[0mbackward\u001b[0m\u001b[0;34m(\u001b[0m\u001b[0mloss\u001b[0m\u001b[0;34m)\u001b[0m\u001b[0;34m\u001b[0m\u001b[0;34m\u001b[0m\u001b[0m\n\u001b[1;32m   1266\u001b[0m         \u001b[0;32melse\u001b[0m\u001b[0;34m:\u001b[0m\u001b[0;34m\u001b[0m\u001b[0;34m\u001b[0m\u001b[0m\n\u001b[0;32m-> 1267\u001b[0;31m             \u001b[0mloss\u001b[0m\u001b[0;34m.\u001b[0m\u001b[0mbackward\u001b[0m\u001b[0;34m(\u001b[0m\u001b[0;34m)\u001b[0m\u001b[0;34m\u001b[0m\u001b[0;34m\u001b[0m\u001b[0m\n\u001b[0m\u001b[1;32m   1268\u001b[0m \u001b[0;34m\u001b[0m\u001b[0m\n\u001b[1;32m   1269\u001b[0m         \u001b[0;32mreturn\u001b[0m \u001b[0mloss\u001b[0m\u001b[0;34m.\u001b[0m\u001b[0mdetach\u001b[0m\u001b[0;34m(\u001b[0m\u001b[0;34m)\u001b[0m\u001b[0;34m\u001b[0m\u001b[0;34m\u001b[0m\u001b[0m\n",
            "\u001b[0;32m/usr/local/lib/python3.6/dist-packages/torch/tensor.py\u001b[0m in \u001b[0;36mbackward\u001b[0;34m(self, gradient, retain_graph, create_graph)\u001b[0m\n\u001b[1;32m    219\u001b[0m                 \u001b[0mretain_graph\u001b[0m\u001b[0;34m=\u001b[0m\u001b[0mretain_graph\u001b[0m\u001b[0;34m,\u001b[0m\u001b[0;34m\u001b[0m\u001b[0;34m\u001b[0m\u001b[0m\n\u001b[1;32m    220\u001b[0m                 create_graph=create_graph)\n\u001b[0;32m--> 221\u001b[0;31m         \u001b[0mtorch\u001b[0m\u001b[0;34m.\u001b[0m\u001b[0mautograd\u001b[0m\u001b[0;34m.\u001b[0m\u001b[0mbackward\u001b[0m\u001b[0;34m(\u001b[0m\u001b[0mself\u001b[0m\u001b[0;34m,\u001b[0m \u001b[0mgradient\u001b[0m\u001b[0;34m,\u001b[0m \u001b[0mretain_graph\u001b[0m\u001b[0;34m,\u001b[0m \u001b[0mcreate_graph\u001b[0m\u001b[0;34m)\u001b[0m\u001b[0;34m\u001b[0m\u001b[0;34m\u001b[0m\u001b[0m\n\u001b[0m\u001b[1;32m    222\u001b[0m \u001b[0;34m\u001b[0m\u001b[0m\n\u001b[1;32m    223\u001b[0m     \u001b[0;32mdef\u001b[0m \u001b[0mregister_hook\u001b[0m\u001b[0;34m(\u001b[0m\u001b[0mself\u001b[0m\u001b[0;34m,\u001b[0m \u001b[0mhook\u001b[0m\u001b[0;34m)\u001b[0m\u001b[0;34m:\u001b[0m\u001b[0;34m\u001b[0m\u001b[0;34m\u001b[0m\u001b[0m\n",
            "\u001b[0;32m/usr/local/lib/python3.6/dist-packages/torch/autograd/__init__.py\u001b[0m in \u001b[0;36mbackward\u001b[0;34m(tensors, grad_tensors, retain_graph, create_graph, grad_variables)\u001b[0m\n\u001b[1;32m    130\u001b[0m     Variable._execution_engine.run_backward(\n\u001b[1;32m    131\u001b[0m         \u001b[0mtensors\u001b[0m\u001b[0;34m,\u001b[0m \u001b[0mgrad_tensors_\u001b[0m\u001b[0;34m,\u001b[0m \u001b[0mretain_graph\u001b[0m\u001b[0;34m,\u001b[0m \u001b[0mcreate_graph\u001b[0m\u001b[0;34m,\u001b[0m\u001b[0;34m\u001b[0m\u001b[0;34m\u001b[0m\u001b[0m\n\u001b[0;32m--> 132\u001b[0;31m         allow_unreachable=True)  # allow_unreachable flag\n\u001b[0m\u001b[1;32m    133\u001b[0m \u001b[0;34m\u001b[0m\u001b[0m\n\u001b[1;32m    134\u001b[0m \u001b[0;34m\u001b[0m\u001b[0m\n",
            "\u001b[0;31mKeyboardInterrupt\u001b[0m: "
          ]
        }
      ]
    },
    {
      "cell_type": "code",
      "metadata": {
        "colab": {
          "base_uri": "https://localhost:8080/"
        },
        "id": "DqpPzCJfBeWM",
        "outputId": "4980e7ff-d87a-480b-cf9a-f8a360a9d2c8"
      },
      "source": [
        "# F1: https://en.wikipedia.org/wiki/F-score\r\n",
        "\r\n",
        "## SQuAD evaluation script. Modifed slightly for this notebook\r\n",
        "from data_classes import ModelArguments\r\n",
        "from transformers import HfArgumentParser\r\n",
        "parser = HfArgumentParser(ModelArguments)\r\n",
        "\r\n",
        "from collections import Counter\r\n",
        "import string\r\n",
        "import re\r\n",
        "import argparse\r\n",
        "import json\r\n",
        "import sys\r\n",
        "import os\r\n",
        "import torch\r\n",
        "import nlp\r\n",
        "from transformers import T5ForConditionalGeneration, T5Tokenizer, set_seed \r\n",
        "from tqdm.auto import tqdm\r\n",
        "from os import listdir\r\n",
        "set_seed(42)\r\n",
        "\r\n",
        "\r\n",
        "def normalize_answer(s):\r\n",
        "    \"\"\"Lower text and remove punctuation, articles and extra whitespace.\"\"\"\r\n",
        "    def remove_articles(text):\r\n",
        "        return re.sub(r'\\b(a|an|the)\\b', ' ', text)\r\n",
        "\r\n",
        "    def white_space_fix(text):\r\n",
        "        return ' '.join(text.split())\r\n",
        "\r\n",
        "    def remove_punc(text):\r\n",
        "        exclude = set(string.punctuation)\r\n",
        "        return ''.join(ch for ch in text if ch not in exclude)\r\n",
        "\r\n",
        "    def lower(text):\r\n",
        "        return text.lower()\r\n",
        "\r\n",
        "    return white_space_fix(remove_articles(remove_punc(lower(s))))\r\n",
        "\r\n",
        "\r\n",
        "def f1_score(prediction, ground_truth):\r\n",
        "    prediction_tokens = normalize_answer(prediction).split()\r\n",
        "    ground_truth_tokens = normalize_answer(ground_truth).split()\r\n",
        "    common = Counter(prediction_tokens) & Counter(ground_truth_tokens)\r\n",
        "    num_same = sum(common.values())\r\n",
        "    if num_same == 0:\r\n",
        "        return 0\r\n",
        "    precision = 1.0 * num_same / len(prediction_tokens)\r\n",
        "    recall = 1.0 * num_same / len(ground_truth_tokens)\r\n",
        "    f1 = (2 * precision * recall) / (precision + recall)\r\n",
        "    return f1\r\n",
        "\r\n",
        "\r\n",
        "def exact_match_score(prediction, ground_truth):\r\n",
        "    return (normalize_answer(prediction) == normalize_answer(ground_truth))\r\n",
        "\r\n",
        "\r\n",
        "def evaluate(gold_answers, predictions):\r\n",
        "    f1 = exact_match = total = 0\r\n",
        "\r\n",
        "    for ground_truth, prediction in zip(gold_answers, predictions):\r\n",
        "      total += 1\r\n",
        "      exact_match += exact_match_score(prediction, ground_truth)\r\n",
        "      f1 += f1_score(prediction, ground_truth)\r\n",
        "    \r\n",
        "    exact_match = 100.0 * exact_match / total\r\n",
        "    f1 = 100.0 * f1 / total\r\n",
        "\r\n",
        "    return {'exact_match': exact_match, 'f1': f1}\r\n",
        "\r\n",
        "def clean(result):\r\n",
        "    result = result.replace(\"<pad>\",\"\")\r\n",
        "    result = result.replace(\"</s>\", \"\")\r\n",
        "    result = result.strip()\r\n",
        "    result = result.lower()\r\n",
        "    return result\r\n",
        "\r\n",
        "checkpoints = \"models/gpu/\"\r\n",
        "\r\n",
        "for checkpoint in sorted(listdir(checkpoints)):\r\n",
        "    # print(\"checkpoint:\", checkpoint)\r\n",
        "    if(checkpoint.split(\"-\")[0] != \"checkpoint\"):\r\n",
        "        continue\r\n",
        "    # if(checkpoint.split(\"-\")[1] != \"83000\"):\r\n",
        "    #     continue\r\n",
        "\r\n",
        "    print(checkpoint.split(\"-\")[1])\r\n",
        "\r\n",
        "    print(\"checkpoint:\", checkpoint)\r\n",
        "\r\n",
        "    model = T5ForConditionalGeneration.from_pretrained(checkpoints + checkpoint).to('cuda')\r\n",
        "\r\n",
        "    tokenizer = T5Tokenizer.from_pretrained('t5-small')\r\n",
        "\r\n",
        "    valid_dataset = torch.load('valid_data.pt')\r\n",
        "    dataloader = torch.utils.data.DataLoader(valid_dataset, batch_size=256)\r\n",
        "\r\n",
        "    answers = []\r\n",
        "    for batch in dataloader:\r\n",
        "      outs = model.generate(input_ids=batch['input_ids'].to('cuda'), \r\n",
        "                            attention_mask=batch['attention_mask'].to('cuda'),\r\n",
        "                            max_length=16,\r\n",
        "                            early_stopping=True)\r\n",
        "      outs = [tokenizer.decode(ids) for ids in outs]\r\n",
        "      answers.extend(outs)\r\n",
        "\r\n",
        "    predictions = []\r\n",
        "    references = []\r\n",
        "    for ref, pred in zip(valid_dataset, answers):\r\n",
        "      predictions.append(clean(pred))\r\n",
        "      references.append(clean(tokenizer.decode(ref['target_ids'])))\r\n",
        "\r\n",
        "    print(checkpoint, evaluate(references, predictions))"
      ],
      "execution_count": 26,
      "outputs": [
        {
          "output_type": "stream",
          "text": [
            "20500\n",
            "checkpoint: checkpoint-20500\n",
            "checkpoint-20500 {'exact_match': 85.41145885411458, 'f1': 85.41145885411458}\n",
            "21000\n",
            "checkpoint: checkpoint-21000\n",
            "checkpoint-21000 {'exact_match': 86.86131386861314, 'f1': 86.86131386861314}\n",
            "21500\n",
            "checkpoint: checkpoint-21500\n",
            "checkpoint-21500 {'exact_match': 87.3112688731127, 'f1': 87.3112688731127}\n",
            "22000\n",
            "checkpoint: checkpoint-22000\n",
            "checkpoint-22000 {'exact_match': 87.83121687831216, 'f1': 87.83121687831216}\n",
            "22500\n",
            "checkpoint: checkpoint-22500\n",
            "checkpoint-22500 {'exact_match': 87.78122187781221, 'f1': 87.78122187781221}\n",
            "23000\n",
            "checkpoint: checkpoint-23000\n",
            "checkpoint-23000 {'exact_match': 87.17128287171283, 'f1': 87.17128287171283}\n",
            "23500\n",
            "checkpoint: checkpoint-23500\n",
            "checkpoint-23500 {'exact_match': 87.35126487351265, 'f1': 87.35126487351265}\n",
            "24000\n",
            "checkpoint: checkpoint-24000\n",
            "checkpoint-24000 {'exact_match': 88.77112288771123, 'f1': 88.77112288771123}\n",
            "24500\n",
            "checkpoint: checkpoint-24500\n",
            "checkpoint-24500 {'exact_match': 88.5011498850115, 'f1': 88.5011498850115}\n",
            "25000\n",
            "checkpoint: checkpoint-25000\n",
            "checkpoint-25000 {'exact_match': 87.3012698730127, 'f1': 87.3012698730127}\n",
            "25500\n",
            "checkpoint: checkpoint-25500\n",
            "checkpoint-25500 {'exact_match': 88.6011398860114, 'f1': 88.6011398860114}\n"
          ],
          "name": "stdout"
        }
      ]
    },
    {
      "cell_type": "code",
      "metadata": {
        "id": "vnLegKpNmtuA"
      },
      "source": [
        "# !pip install torchsummary\r\n",
        "# print(batch['input_ids'].to('cuda').shape)\r\n",
        "# from torchsummary import summary\r\n",
        "# summary(model, input_size=[17,128])\r\n",
        "# summary(model, input_size=[32128, 512])\r\n",
        "\r\n",
        "# print(model)"
      ],
      "execution_count": 27,
      "outputs": []
    },
    {
      "cell_type": "code",
      "metadata": {
        "colab": {
          "base_uri": "https://localhost:8080/"
        },
        "id": "qHtCOZvtk2Ms",
        "outputId": "3fc402a5-20ad-4ab9-92fd-7c08db3bb9e0"
      },
      "source": [
        "!zip -r checkpoint-24000.zip models/gpu/checkpoint-24000"
      ],
      "execution_count": 28,
      "outputs": [
        {
          "output_type": "stream",
          "text": [
            "  adding: models/gpu/checkpoint-24000/ (stored 0%)\n",
            "  adding: models/gpu/checkpoint-24000/scheduler.pt (deflated 49%)\n",
            "  adding: models/gpu/checkpoint-24000/training_args.bin (deflated 46%)\n",
            "  adding: models/gpu/checkpoint-24000/config.json (deflated 62%)\n",
            "  adding: models/gpu/checkpoint-24000/optimizer.pt (deflated 7%)\n",
            "  adding: models/gpu/checkpoint-24000/pytorch_model.bin (deflated 9%)\n",
            "  adding: models/gpu/checkpoint-24000/trainer_state.json (deflated 81%)\n"
          ],
          "name": "stdout"
        }
      ]
    },
    {
      "cell_type": "code",
      "metadata": {
        "id": "Sxo2AUzDpAjy"
      },
      "source": [
        "!rm checkpoint-83000.zip"
      ],
      "execution_count": null,
      "outputs": []
    },
    {
      "cell_type": "code",
      "metadata": {
        "colab": {
          "base_uri": "https://localhost:8080/"
        },
        "id": "mZgypfQvqIpW",
        "outputId": "b5a3681c-2903-49c4-fbca-12654b013682"
      },
      "source": [
        "from google.colab import drive\r\n",
        "drive.mount('/content/gdrive',force_remount=True)"
      ],
      "execution_count": 5,
      "outputs": [
        {
          "output_type": "stream",
          "text": [
            "Mounted at /content/gdrive\n"
          ],
          "name": "stdout"
        }
      ]
    },
    {
      "cell_type": "code",
      "metadata": {
        "id": "qpyxajMJq3zn"
      },
      "source": [
        "# !cp checkpoint-83000.zip gdrive/MyDrive/colab/\r\n",
        "!cp checkpoint-24000.zip gdrive/MyDrive/colab/"
      ],
      "execution_count": 30,
      "outputs": []
    },
    {
      "cell_type": "code",
      "metadata": {
        "id": "OfHvMZW77rMI"
      },
      "source": [
        "!cp gdrive/MyDrive/colab/checkpoint-24000.zip ."
      ],
      "execution_count": 9,
      "outputs": []
    },
    {
      "cell_type": "code",
      "metadata": {
        "id": "UXtQN22q74NH",
        "outputId": "64ad28aa-df2e-4275-d0bf-0ef09ddc4e09",
        "colab": {
          "base_uri": "https://localhost:8080/"
        }
      },
      "source": [
        "!unzip checkpoint-20000.zip "
      ],
      "execution_count": 11,
      "outputs": [
        {
          "output_type": "stream",
          "text": [
            "Archive:  checkpoint-20000.zip\n",
            "   creating: models/gpu/checkpoint-20000/\n",
            "  inflating: models/gpu/checkpoint-20000/optimizer.pt  \n",
            "  inflating: models/gpu/checkpoint-20000/training_args.bin  \n",
            "  inflating: models/gpu/checkpoint-20000/config.json  \n",
            "  inflating: models/gpu/checkpoint-20000/pytorch_model.bin  \n",
            "  inflating: models/gpu/checkpoint-20000/scheduler.pt  \n",
            "  inflating: models/gpu/checkpoint-20000/trainer_state.json  \n"
          ],
          "name": "stdout"
        }
      ]
    },
    {
      "cell_type": "code",
      "metadata": {
        "colab": {
          "base_uri": "https://localhost:8080/"
        },
        "id": "x9-MqOm8rRqm",
        "outputId": "962ec783-69eb-4b17-e674-23c49248f8ce"
      },
      "source": [
        "!ls -lt gdrive/MyDrive/colab"
      ],
      "execution_count": 29,
      "outputs": [
        {
          "output_type": "stream",
          "text": [
            "total 3395485\n",
            "-rw------- 1 root root 2090750447 Jan 16 20:40 train_data.pt\n",
            "-rw------- 1 root root   41822959 Jan 16 20:40 valid_data.pt\n",
            "-rw------- 1 root root  672998021 Jan 15 04:29 checkpoint-20000.zip\n",
            "-rw------- 1 root root          0 Jan 14 21:18 test.txt\n",
            "-rw------- 1 root root  671403632 Jan 14 21:16 checkpoint-83000.zip\n"
          ],
          "name": "stdout"
        }
      ]
    }
  ]
}