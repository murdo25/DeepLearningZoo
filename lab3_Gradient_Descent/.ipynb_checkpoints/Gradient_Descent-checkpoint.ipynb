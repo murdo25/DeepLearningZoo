{
 "cells": [
  {
   "cell_type": "markdown",
   "metadata": {},
   "source": [
    "Lab3:  gradient descent based optimizer CIFAR-10 dataset"
   ]
  },
  {
   "cell_type": "code",
   "execution_count": 25,
   "metadata": {
    "collapsed": false,
    "scrolled": true
   },
   "outputs": [],
   "source": [
    "#create a linear score function\n",
    "#use the log soft-max loss function\n",
    "#To optimize the parameters use vanilla gradient descent\n",
    "\n",
    "import numpy as np\n",
    "\n",
    "\n",
    "\n",
    "#@wingate\n",
    "#---\n",
    "def unpickle( file ):\n",
    "    import cPickle\n",
    "    fo = open(file, 'rb')\n",
    "    dict = cPickle.load(fo)\n",
    "    fo.close()\n",
    "    return dict\n",
    " \n",
    "data = unpickle( 'cifar-10-batches-py/data_batch_1' )\n",
    " \n",
    "features = data['data']\n",
    "labels = data['labels']\n",
    "labels = np.atleast_2d( labels ).T\n",
    " \n",
    "N = 1000\n",
    "D = 10\n",
    " \n",
    "# only keep N items\n",
    "features = features[ 0:N, : ] \n",
    "labels = labels[ 0:N, : ]\n",
    " \n",
    "# project down into a D-dimensional space\n",
    "features = np.dot( features, np.random.randn( 3072, D) )\n",
    " \n",
    "# whiten our data - zero mean and unit standard deviation\n",
    "features = (features - np.mean(features, axis=0)) / np.std(features, axis=0)\n",
    "#---\n",
    "\n",
    "\n",
    "class GradientDescent:\n",
    "    \n",
    "    def __init__(self):\n",
    "       \n",
    "        \n",
    "        self.delta = .00001\n",
    "        self.W = np.random.rand(10,10)\n",
    "        \n",
    "        \n",
    "    def softmax(self,vec):\n",
    "        return (np.exp(vec)/np.sum(np.exp(vec),axis=0))    \n",
    "        \n",
    "    #def printr(self):\n",
    "        #print(\"features \")\n",
    "        #print(self.features)\n",
    "        \n",
    "        print(\"weights\")\n",
    "        print(self.W)\n",
    "        \n",
    "        \n",
    "    \n",
    "        \n",
    "G = GradientDescent()\n",
    "\n",
    "\n",
    "\n",
    "\n"
   ]
  },
  {
   "cell_type": "code",
   "execution_count": null,
   "metadata": {
    "collapsed": true
   },
   "outputs": [],
   "source": []
  },
  {
   "cell_type": "code",
   "execution_count": null,
   "metadata": {
    "collapsed": true
   },
   "outputs": [],
   "source": []
  }
 ],
 "metadata": {
  "kernelspec": {
   "display_name": "Python 2",
   "language": "python",
   "name": "python2"
  },
  "language_info": {
   "codemirror_mode": {
    "name": "ipython",
    "version": 2
   },
   "file_extension": ".py",
   "mimetype": "text/x-python",
   "name": "python",
   "nbconvert_exporter": "python",
   "pygments_lexer": "ipython2",
   "version": "2.7.11"
  }
 },
 "nbformat": 4,
 "nbformat_minor": 0
}
